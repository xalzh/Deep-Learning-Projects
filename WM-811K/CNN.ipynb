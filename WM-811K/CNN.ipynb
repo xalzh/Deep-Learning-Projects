{
 "cells": [
  {
   "cell_type": "code",
   "execution_count": 35,
   "metadata": {
    "collapsed": true
   },
   "outputs": [],
   "source": [
    "import pandas as pd\n",
    "import numpy as np\n",
    "import torch\n",
    "from PIL import Image\n",
    "import cv2\n",
    "import torch.nn as nn\n",
    "import torch.optim as optim\n",
    "from tqdm.notebook import tqdm, trange\n",
    "from torch.utils.data import TensorDataset, DataLoader\n",
    "\n",
    "import warnings\n",
    "warnings.filterwarnings(\"ignore\")"
   ]
  },
  {
   "cell_type": "code",
   "execution_count": 36,
   "outputs": [
    {
     "name": "stdout",
     "output_type": "stream",
     "text": [
      "                                                 waferMap  dieSize   lotName  \\\n",
      "0       [[0, 0, 0, 0, 0, 0, 0, 0, 0, 0, 0, 0, 0, 0, 0,...   1683.0      lot1   \n",
      "1       [[0, 0, 0, 0, 0, 0, 0, 0, 0, 0, 0, 0, 0, 0, 0,...   1683.0      lot1   \n",
      "2       [[0, 0, 0, 0, 0, 0, 0, 0, 0, 0, 0, 0, 0, 0, 0,...   1683.0      lot1   \n",
      "3       [[0, 0, 0, 0, 0, 0, 0, 0, 0, 0, 0, 0, 0, 0, 0,...   1683.0      lot1   \n",
      "4       [[0, 0, 0, 0, 0, 0, 0, 0, 0, 0, 0, 0, 0, 0, 0,...   1683.0      lot1   \n",
      "...                                                   ...      ...       ...   \n",
      "811452  [[0, 0, 0, 0, 0, 0, 0, 0, 0, 0, 0, 1, 2, 1, 1,...    600.0  lot47542   \n",
      "811453  [[0, 0, 0, 0, 0, 0, 0, 0, 0, 0, 0, 2, 2, 1, 1,...    600.0  lot47542   \n",
      "811454  [[0, 0, 0, 0, 0, 0, 0, 0, 0, 0, 0, 1, 2, 1, 1,...    600.0  lot47542   \n",
      "811455  [[0, 0, 0, 0, 0, 0, 0, 0, 0, 0, 0, 1, 1, 1, 1,...    600.0  lot47543   \n",
      "811456  [[0, 0, 0, 0, 0, 0, 0, 0, 0, 0, 0, 1, 2, 1, 1,...    600.0  lot47543   \n",
      "\n",
      "        waferIndex trianTestLabel    failureType  \n",
      "0              1.0   [[Training]]       [[none]]  \n",
      "1              2.0   [[Training]]       [[none]]  \n",
      "2              3.0   [[Training]]       [[none]]  \n",
      "3              4.0   [[Training]]       [[none]]  \n",
      "4              5.0   [[Training]]       [[none]]  \n",
      "...            ...            ...            ...  \n",
      "811452        23.0       [[Test]]  [[Edge-Ring]]  \n",
      "811453        24.0       [[Test]]   [[Edge-Loc]]  \n",
      "811454        25.0       [[Test]]  [[Edge-Ring]]  \n",
      "811455         1.0             []             []  \n",
      "811456         2.0             []             []  \n",
      "\n",
      "[811457 rows x 6 columns]\n"
     ]
    }
   ],
   "source": [
    "df = pd.read_pickle(\"LSWMD.pkl\")\n",
    "print(df)"
   ],
   "metadata": {
    "collapsed": false
   }
  },
  {
   "cell_type": "code",
   "execution_count": 37,
   "outputs": [],
   "source": [
    "#Process on the wafermap\n",
    "wafermap = np.asarray(df.waferMap)\n",
    "dim = (64, 64)\n",
    "for i in range(len(wafermap)):\n",
    "    wafermap[i] = cv2.resize(wafermap[i],dim,interpolation = cv2.INTER_AREA)\n",
    "    wafermap[i] = np.reshape(wafermap[i],(1,64,64))\n"
   ],
   "metadata": {
    "collapsed": false
   }
  },
  {
   "cell_type": "code",
   "execution_count": 38,
   "outputs": [
    {
     "name": "stdout",
     "output_type": "stream",
     "text": [
      "[1 1 1 ... 2 array([], shape=(0, 0), dtype=float64)\n",
      " array([], shape=(0, 0), dtype=float64)]\n"
     ]
    }
   ],
   "source": [
    "#Process on the train_test_label\n",
    "label_map = {'Training':1,'Test':2}\n",
    "df=df.replace({'trianTestLabel':label_map})\n",
    "label = np.asarray(df.trianTestLabel)\n",
    "print(label)"
   ],
   "metadata": {
    "collapsed": false
   }
  },
  {
   "cell_type": "code",
   "execution_count": 39,
   "outputs": [
    {
     "name": "stdout",
     "output_type": "stream",
     "text": [
      "[8 8 8 ... 3 array([], shape=(0, 0), dtype=float64)\n",
      " array([], shape=(0, 0), dtype=float64)]\n"
     ]
    }
   ],
   "source": [
    "#Process on the failure type\n",
    "failure_type={'Center':0,'Donut':1,'Edge-Loc':2,'Edge-Ring':3,'Loc':4,'Random':5,'Scratch':6,'Near-full':7,'none':8}\n",
    "df=df.replace({'failureType':failure_type})\n",
    "failure = np.asarray(df.failureType)\n",
    "print(failure)"
   ],
   "metadata": {
    "collapsed": false
   }
  },
  {
   "cell_type": "code",
   "execution_count": 40,
   "outputs": [],
   "source": [
    "train_feature = []\n",
    "train_label = []\n",
    "test_feature = []\n",
    "test_label = []\n",
    "\n",
    "for i in range(len(wafermap)):\n",
    "    if label[i] == 1:#Training label\n",
    "        train_feature.append(wafermap[i])\n",
    "        train_label.append(failure[i])\n",
    "    elif label[i] == 2:#Testing label\n",
    "        test_feature.append(wafermap[i])\n",
    "        test_label.append(failure[i])\n",
    "\n",
    "train_feature = np.asarray(train_feature)\n",
    "train_label = np.asarray(train_label)\n",
    "test_feature = np.asarray(test_feature)\n",
    "test_label = np.asarray(test_label)\n",
    "train_feature = torch.tensor(train_feature)\n",
    "train_label = torch.tensor(train_label)\n",
    "test_feature = torch.tensor(test_feature)\n",
    "test_label = torch.tensor(test_label)\n",
    "\n",
    "train_feature = train_feature.type(torch.float)\n",
    "train_label = train_label.type(torch.float)\n",
    "test_feature = test_feature.type(torch.float)\n",
    "test_label = test_label.type(torch.float)\n",
    "\n",
    "\n",
    "train_dataset = TensorDataset(train_feature,train_label)\n",
    "train_dataloader = DataLoader(train_dataset, batch_size=64)\n",
    "test_dataset = TensorDataset(test_feature,test_label)\n",
    "test_dataloader = DataLoader(test_dataset, batch_size=64)"
   ],
   "metadata": {
    "collapsed": false
   }
  },
  {
   "cell_type": "code",
   "execution_count": 41,
   "outputs": [
    {
     "name": "stdout",
     "output_type": "stream",
     "text": [
      "cuda\n"
     ]
    }
   ],
   "source": [
    "if torch.backends.mps.is_available():\n",
    "    device = torch.device(\"mps\")\n",
    "elif torch.cuda.is_available():\n",
    "    device = torch.device(\"cuda\")\n",
    "else:\n",
    "    device = torch.device(\"cpu\")\n",
    "print(device)"
   ],
   "metadata": {
    "collapsed": false
   }
  },
  {
   "cell_type": "code",
   "execution_count": 42,
   "outputs": [],
   "source": [
    "class CNN(nn.Module):\n",
    "    def __init__(self):\n",
    "        super(CNN, self).__init__()\n",
    "\n",
    "        self.conv1 = nn.Sequential(\n",
    "            nn.Conv2d(in_channels=1, out_channels=16, kernel_size=3, padding=1),\n",
    "            nn.Conv2d(in_channels=16, out_channels=32, kernel_size=3, padding=1),\n",
    "            nn.BatchNorm2d(num_features=32),\n",
    "            nn.ReLU(),\n",
    "            nn.MaxPool2d(2, 2),\n",
    "            nn.Dropout(0.2)\n",
    "        )\n",
    "        self.conv2 = nn.Sequential(\n",
    "            nn.Conv2d(in_channels=32, out_channels=64, kernel_size=3, padding=1),\n",
    "            nn.Conv2d(in_channels=64, out_channels=128, kernel_size=3, padding=1),\n",
    "            nn.BatchNorm2d(num_features=128),\n",
    "            nn.ReLU(),\n",
    "            nn.MaxPool2d(2, 2),\n",
    "            nn.Dropout(0.4)\n",
    "        )\n",
    "        self.conv3 = nn.Sequential(\n",
    "            nn.Conv2d(in_channels=128, out_channels=256, kernel_size=3, padding=1),\n",
    "            nn.Conv2d(in_channels=256, out_channels=256, kernel_size=3, padding=1),\n",
    "            nn.BatchNorm2d(num_features=256),\n",
    "            nn.ReLU(),\n",
    "            nn.MaxPool2d(2, 2),\n",
    "            nn.Dropout(0.6)\n",
    "        )\n",
    "\n",
    "        self.fc1 = nn.Linear(256 * 8 * 8, 256)\n",
    "        self.fc2 = nn.Linear(256, 64)\n",
    "        self.fc3 = nn.Linear(64, 9)\n",
    "        self.relu = nn.ReLU()\n",
    "        self.softmax = nn.LogSoftmax(dim=1)\n",
    "        self.loss = nn.CrossEntropyLoss()\n",
    "\n",
    "    def forward(self, input_data):\n",
    "        conv_1 = self.conv1(input_data)\n",
    "        conv_2 = self.conv2(conv_1)\n",
    "        conv_3 = self.conv3(conv_2)\n",
    "        flat = torch.flatten(conv_3, 1)\n",
    "        fully1 = self.fc1(flat)\n",
    "        fully1_relu1 = self.relu(fully1)\n",
    "        fully2 = self.fc2(fully1_relu1)\n",
    "        fully2_relu2 = self.relu(fully2)\n",
    "        fully3 = self.fc3(fully2_relu2)\n",
    "        out = self.softmax(fully3)\n",
    "        return out\n",
    "\n",
    "    def compute_Loss(self, predicted_vector, gold_label):\n",
    "        return self.loss(predicted_vector, gold_label)\n",
    "\n",
    "    def load_model(self, save_path, is_state_dict=False):\n",
    "        if not is_state_dict:\n",
    "            saved_model = torch.load(save_path)\n",
    "            self.load_state_dict(saved_model.state_dict())\n",
    "        else:\n",
    "            self.load_state_dict(torch.load(save_path))\n",
    "\n",
    "    def save_model(self, save_path, is_state_dict=False):\n",
    "        if is_state_dict:\n",
    "            torch.save(self.state_dict(), save_path)\n",
    "        else:\n",
    "            torch.save(self, save_path)\n"
   ],
   "metadata": {
    "collapsed": false
   }
  },
  {
   "cell_type": "code",
   "execution_count": 43,
   "outputs": [],
   "source": [
    "def train_epoch(model, train_loader, optimizer):\n",
    "    model.train()\n",
    "    total_loss = 0\n",
    "    batch = 0\n",
    "    correct = 0\n",
    "    total = 0\n",
    "    for images,labels in tqdm(train_loader, leave=False, desc=\"Training Batches\"):\n",
    "        optimizer.zero_grad()\n",
    "        images, labels = images.to(device), labels.to(device)\n",
    "        batch += 1\n",
    "        output = model.forward(images)\n",
    "        loss = model.compute_Loss(output,labels.long())\n",
    "        loss.backward()\n",
    "        optimizer.step()\n",
    "        total_loss += loss.item()\n",
    "        _, predicted = torch.max(output.data, 1)\n",
    "        correct += (predicted == labels).sum().item()\n",
    "        total += labels.size(0)\n",
    "\n",
    "    print(\"Loss: \" + str(total_loss/batch))\n",
    "    print(\"Training Accuracy: \" + str(correct/total))\n",
    "    return total_loss/batch, correct/total\n",
    "\n"
   ],
   "metadata": {
    "collapsed": false
   }
  },
  {
   "cell_type": "code",
   "execution_count": 44,
   "outputs": [],
   "source": [
    "def evaluation(model, test_loader, optimizer):\n",
    "    model.eval()\n",
    "    total_loss = 0\n",
    "    batch = 0\n",
    "    correct = 0\n",
    "    total = 0\n",
    "    for images,labels in tqdm(test_loader, leave=False, desc=\"Testing Batches\"):\n",
    "        images, labels = images.to(device), labels.to(device)\n",
    "        batch += 1\n",
    "        optimizer.zero_grad()\n",
    "        output = model.forward(images)\n",
    "        loss = model.compute_Loss(output,labels.long())\n",
    "        loss.backward()\n",
    "        optimizer.step()\n",
    "        total_loss += loss.item()\n",
    "        _, predict = torch.max(output.data, 1)\n",
    "        correct += (predict == labels).sum().item()\n",
    "        total += labels.size(0)\n",
    "\n",
    "    print(\"Loss: \" + str(total_loss/batch))\n",
    "    print(\"Testing Accuracy: \" + str(correct/total))\n",
    "    return total_loss/batch, correct/total\n"
   ],
   "metadata": {
    "collapsed": false
   }
  },
  {
   "cell_type": "code",
   "execution_count": 45,
   "outputs": [],
   "source": [
    "def train_and_evaluate(number_of_epochs, model, train_loader, val_loader, min_loss=0):\n",
    "    optimizer = optim.SGD(model.parameters(), lr=0.0001, momentum=0.9)\n",
    "    loss_values = [[],[]]\n",
    "    acc = [[],[]]\n",
    "    for epoch in trange(number_of_epochs, desc=\"Epochs\"):\n",
    "        cur_loss = train_epoch(model, train_loader, optimizer)\n",
    "        loss_values[0].append(cur_loss[0])\n",
    "        acc[0].append(cur_loss[1])\n",
    "        cur_loss_val = evaluation(model, val_loader, optimizer)\n",
    "        loss_values[1].append(cur_loss_val[0])\n",
    "        acc[1].append(cur_loss_val[1])\n",
    "    if cur_loss[0] <= min_loss: return loss_values\n",
    "    return loss_values, acc"
   ],
   "metadata": {
    "collapsed": false
   }
  },
  {
   "cell_type": "code",
   "execution_count": 46,
   "outputs": [
    {
     "data": {
      "text/plain": "Epochs:   0%|          | 0/50 [00:00<?, ?it/s]",
      "application/vnd.jupyter.widget-view+json": {
       "version_major": 2,
       "version_minor": 0,
       "model_id": "ce46a59902b24d49bb158fd4160b7392"
      },
      "application/json": {
       "n": 0,
       "total": 50,
       "elapsed": 0.010963678359985352,
       "ncols": null,
       "nrows": null,
       "prefix": "Epochs",
       "ascii": false,
       "unit": "it",
       "unit_scale": false,
       "rate": null,
       "bar_format": null,
       "postfix": null,
       "unit_divisor": 1000,
       "initial": 0,
       "colour": null
      }
     },
     "metadata": {},
     "output_type": "display_data"
    },
    {
     "data": {
      "text/plain": "Training Batches:   0%|          | 0/850 [00:00<?, ?it/s]",
      "application/vnd.jupyter.widget-view+json": {
       "version_major": 2,
       "version_minor": 0,
       "model_id": "6887fb5ccbaf44378d0680a0a2277039"
      },
      "application/json": {
       "n": 0,
       "total": 850,
       "elapsed": 0.009967327117919922,
       "ncols": null,
       "nrows": null,
       "prefix": "Training Batches",
       "ascii": false,
       "unit": "it",
       "unit_scale": false,
       "rate": null,
       "bar_format": null,
       "postfix": null,
       "unit_divisor": 1000,
       "initial": 0,
       "colour": null
      }
     },
     "metadata": {},
     "output_type": "display_data"
    },
    {
     "name": "stdout",
     "output_type": "stream",
     "text": [
      "Loss: 0.8368955902799088\n",
      "Training Accuracy: 0.7718701131450648\n"
     ]
    },
    {
     "data": {
      "text/plain": "Testing Batches:   0%|          | 0/1854 [00:00<?, ?it/s]",
      "application/vnd.jupyter.widget-view+json": {
       "version_major": 2,
       "version_minor": 0,
       "model_id": "bd62046a93884df5b088c6f6580efe0a"
      },
      "application/json": {
       "n": 0,
       "total": 1854,
       "elapsed": 0.007975339889526367,
       "ncols": null,
       "nrows": null,
       "prefix": "Testing Batches",
       "ascii": false,
       "unit": "it",
       "unit_scale": false,
       "rate": null,
       "bar_format": null,
       "postfix": null,
       "unit_divisor": 1000,
       "initial": 0,
       "colour": null
      }
     },
     "metadata": {},
     "output_type": "display_data"
    },
    {
     "name": "stdout",
     "output_type": "stream",
     "text": [
      "Loss: 0.34873864481724426\n",
      "Testing Accuracy: 0.9334373287238079\n"
     ]
    },
    {
     "data": {
      "text/plain": "Training Batches:   0%|          | 0/850 [00:00<?, ?it/s]",
      "application/vnd.jupyter.widget-view+json": {
       "version_major": 2,
       "version_minor": 0,
       "model_id": "8ba30c13882d4f8196df46367560d522"
      },
      "application/json": {
       "n": 0,
       "total": 850,
       "elapsed": 0.009009361267089844,
       "ncols": null,
       "nrows": null,
       "prefix": "Training Batches",
       "ascii": false,
       "unit": "it",
       "unit_scale": false,
       "rate": null,
       "bar_format": null,
       "postfix": null,
       "unit_divisor": 1000,
       "initial": 0,
       "colour": null
      }
     },
     "metadata": {},
     "output_type": "display_data"
    },
    {
     "name": "stdout",
     "output_type": "stream",
     "text": [
      "Loss: 0.7138235441321398\n",
      "Training Accuracy: 0.7958973415509153\n"
     ]
    },
    {
     "data": {
      "text/plain": "Testing Batches:   0%|          | 0/1854 [00:00<?, ?it/s]",
      "application/vnd.jupyter.widget-view+json": {
       "version_major": 2,
       "version_minor": 0,
       "model_id": "8969ae48c1d1438e99713515794d4cf6"
      },
      "application/json": {
       "n": 0,
       "total": 1854,
       "elapsed": 0.007931232452392578,
       "ncols": null,
       "nrows": null,
       "prefix": "Testing Batches",
       "ascii": false,
       "unit": "it",
       "unit_scale": false,
       "rate": null,
       "bar_format": null,
       "postfix": null,
       "unit_divisor": 1000,
       "initial": 0,
       "colour": null
      }
     },
     "metadata": {},
     "output_type": "display_data"
    },
    {
     "name": "stdout",
     "output_type": "stream",
     "text": [
      "Loss: 0.297997805506429\n",
      "Testing Accuracy: 0.9347190016442515\n"
     ]
    },
    {
     "data": {
      "text/plain": "Training Batches:   0%|          | 0/850 [00:00<?, ?it/s]",
      "application/vnd.jupyter.widget-view+json": {
       "version_major": 2,
       "version_minor": 0,
       "model_id": "5d9cdc7141fb4fa3a8462a5ab7d8521d"
      },
      "application/json": {
       "n": 0,
       "total": 850,
       "elapsed": 0.008970260620117188,
       "ncols": null,
       "nrows": null,
       "prefix": "Training Batches",
       "ascii": false,
       "unit": "it",
       "unit_scale": false,
       "rate": null,
       "bar_format": null,
       "postfix": null,
       "unit_divisor": 1000,
       "initial": 0,
       "colour": null
      }
     },
     "metadata": {},
     "output_type": "display_data"
    },
    {
     "name": "stdout",
     "output_type": "stream",
     "text": [
      "Loss: 0.5578295503523858\n",
      "Training Accuracy: 0.8325637015913899\n"
     ]
    },
    {
     "data": {
      "text/plain": "Testing Batches:   0%|          | 0/1854 [00:00<?, ?it/s]",
      "application/vnd.jupyter.widget-view+json": {
       "version_major": 2,
       "version_minor": 0,
       "model_id": "74c2b56567bd445a831936bca2566f09"
      },
      "application/json": {
       "n": 0,
       "total": 1854,
       "elapsed": 0.007972955703735352,
       "ncols": null,
       "nrows": null,
       "prefix": "Testing Batches",
       "ascii": false,
       "unit": "it",
       "unit_scale": false,
       "rate": null,
       "bar_format": null,
       "postfix": null,
       "unit_divisor": 1000,
       "initial": 0,
       "colour": null
      }
     },
     "metadata": {},
     "output_type": "display_data"
    },
    {
     "name": "stdout",
     "output_type": "stream",
     "text": [
      "Loss: 0.2575277692400735\n",
      "Testing Accuracy: 0.9395842995067246\n"
     ]
    },
    {
     "data": {
      "text/plain": "Training Batches:   0%|          | 0/850 [00:00<?, ?it/s]",
      "application/vnd.jupyter.widget-view+json": {
       "version_major": 2,
       "version_minor": 0,
       "model_id": "3260bda9af6a4363a12317071c0cc92b"
      },
      "application/json": {
       "n": 0,
       "total": 850,
       "elapsed": 0.007973670959472656,
       "ncols": null,
       "nrows": null,
       "prefix": "Training Batches",
       "ascii": false,
       "unit": "it",
       "unit_scale": false,
       "rate": null,
       "bar_format": null,
       "postfix": null,
       "unit_divisor": 1000,
       "initial": 0,
       "colour": null
      }
     },
     "metadata": {},
     "output_type": "display_data"
    },
    {
     "name": "stdout",
     "output_type": "stream",
     "text": [
      "Loss: 0.4561184903299984\n",
      "Training Accuracy: 0.8589826142949131\n"
     ]
    },
    {
     "data": {
      "text/plain": "Testing Batches:   0%|          | 0/1854 [00:00<?, ?it/s]",
      "application/vnd.jupyter.widget-view+json": {
       "version_major": 2,
       "version_minor": 0,
       "model_id": "38bafc7fade14295a15c821db276f427"
      },
      "application/json": {
       "n": 0,
       "total": 1854,
       "elapsed": 0.007972955703735352,
       "ncols": null,
       "nrows": null,
       "prefix": "Testing Batches",
       "ascii": false,
       "unit": "it",
       "unit_scale": false,
       "rate": null,
       "bar_format": null,
       "postfix": null,
       "unit_divisor": 1000,
       "initial": 0,
       "colour": null
      }
     },
     "metadata": {},
     "output_type": "display_data"
    },
    {
     "name": "stdout",
     "output_type": "stream",
     "text": [
      "Loss: 0.2328943279426155\n",
      "Testing Accuracy: 0.9415236730047641\n"
     ]
    },
    {
     "data": {
      "text/plain": "Training Batches:   0%|          | 0/850 [00:00<?, ?it/s]",
      "application/vnd.jupyter.widget-view+json": {
       "version_major": 2,
       "version_minor": 0,
       "model_id": "a709ab2baf3c4cb28011e3b8c4ae584c"
      },
      "application/json": {
       "n": 0,
       "total": 850,
       "elapsed": 0.007971763610839844,
       "ncols": null,
       "nrows": null,
       "prefix": "Training Batches",
       "ascii": false,
       "unit": "it",
       "unit_scale": false,
       "rate": null,
       "bar_format": null,
       "postfix": null,
       "unit_divisor": 1000,
       "initial": 0,
       "colour": null
      }
     },
     "metadata": {},
     "output_type": "display_data"
    },
    {
     "name": "stdout",
     "output_type": "stream",
     "text": [
      "Loss: 0.39198228961555287\n",
      "Training Accuracy: 0.8791647502529666\n"
     ]
    },
    {
     "data": {
      "text/plain": "Testing Batches:   0%|          | 0/1854 [00:00<?, ?it/s]",
      "application/vnd.jupyter.widget-view+json": {
       "version_major": 2,
       "version_minor": 0,
       "model_id": "d9db387d283d4646a19d5e94a4455747"
      },
      "application/json": {
       "n": 0,
       "total": 1854,
       "elapsed": 0.008940696716308594,
       "ncols": null,
       "nrows": null,
       "prefix": "Testing Batches",
       "ascii": false,
       "unit": "it",
       "unit_scale": false,
       "rate": null,
       "bar_format": null,
       "postfix": null,
       "unit_divisor": 1000,
       "initial": 0,
       "colour": null
      }
     },
     "metadata": {},
     "output_type": "display_data"
    },
    {
     "name": "stdout",
     "output_type": "stream",
     "text": [
      "Loss: 0.21369332335376962\n",
      "Testing Accuracy: 0.9436148235591719\n"
     ]
    },
    {
     "data": {
      "text/plain": "Training Batches:   0%|          | 0/850 [00:00<?, ?it/s]",
      "application/vnd.jupyter.widget-view+json": {
       "version_major": 2,
       "version_minor": 0,
       "model_id": "ba88d87943664e4585fe96dc02696b6c"
      },
      "application/json": {
       "n": 0,
       "total": 850,
       "elapsed": 0.00800943374633789,
       "ncols": null,
       "nrows": null,
       "prefix": "Training Batches",
       "ascii": false,
       "unit": "it",
       "unit_scale": false,
       "rate": null,
       "bar_format": null,
       "postfix": null,
       "unit_divisor": 1000,
       "initial": 0,
       "colour": null
      }
     },
     "metadata": {},
     "output_type": "display_data"
    },
    {
     "name": "stdout",
     "output_type": "stream",
     "text": [
      "Loss: 0.3505630373016602\n",
      "Training Accuracy: 0.8910311838837274\n"
     ]
    },
    {
     "data": {
      "text/plain": "Testing Batches:   0%|          | 0/1854 [00:00<?, ?it/s]",
      "application/vnd.jupyter.widget-view+json": {
       "version_major": 2,
       "version_minor": 0,
       "model_id": "67393d17ec0e462fae861e7c9f4cd0c3"
      },
      "application/json": {
       "n": 0,
       "total": 1854,
       "elapsed": 0.007973432540893555,
       "ncols": null,
       "nrows": null,
       "prefix": "Testing Batches",
       "ascii": false,
       "unit": "it",
       "unit_scale": false,
       "rate": null,
       "bar_format": null,
       "postfix": null,
       "unit_divisor": 1000,
       "initial": 0,
       "colour": null
      }
     },
     "metadata": {},
     "output_type": "display_data"
    },
    {
     "name": "stdout",
     "output_type": "stream",
     "text": [
      "Loss: 0.1978268384253566\n",
      "Testing Accuracy: 0.9463636746911759\n"
     ]
    },
    {
     "data": {
      "text/plain": "Training Batches:   0%|          | 0/850 [00:00<?, ?it/s]",
      "application/vnd.jupyter.widget-view+json": {
       "version_major": 2,
       "version_minor": 0,
       "model_id": "25ebd78a2a144292ac6d0eb30f774995"
      },
      "application/json": {
       "n": 0,
       "total": 850,
       "elapsed": 0.008970022201538086,
       "ncols": null,
       "nrows": null,
       "prefix": "Training Batches",
       "ascii": false,
       "unit": "it",
       "unit_scale": false,
       "rate": null,
       "bar_format": null,
       "postfix": null,
       "unit_divisor": 1000,
       "initial": 0,
       "colour": null
      }
     },
     "metadata": {},
     "output_type": "display_data"
    },
    {
     "name": "stdout",
     "output_type": "stream",
     "text": [
      "Loss: 0.3208607438008082\n",
      "Training Accuracy: 0.8993468862110201\n"
     ]
    },
    {
     "data": {
      "text/plain": "Testing Batches:   0%|          | 0/1854 [00:00<?, ?it/s]",
      "application/vnd.jupyter.widget-view+json": {
       "version_major": 2,
       "version_minor": 0,
       "model_id": "fb1d47d4b99d4f77a84911c6097c361e"
      },
      "application/json": {
       "n": 0,
       "total": 1854,
       "elapsed": 0.007973194122314453,
       "ncols": null,
       "nrows": null,
       "prefix": "Testing Batches",
       "ascii": false,
       "unit": "it",
       "unit_scale": false,
       "rate": null,
       "bar_format": null,
       "postfix": null,
       "unit_divisor": 1000,
       "initial": 0,
       "colour": null
      }
     },
     "metadata": {},
     "output_type": "display_data"
    },
    {
     "name": "stdout",
     "output_type": "stream",
     "text": [
      "Loss: 0.18497584412236595\n",
      "Testing Accuracy: 0.9487752434756946\n"
     ]
    },
    {
     "data": {
      "text/plain": "Training Batches:   0%|          | 0/850 [00:00<?, ?it/s]",
      "application/vnd.jupyter.widget-view+json": {
       "version_major": 2,
       "version_minor": 0,
       "model_id": "e1c53fd3694c4d358cb738e8a4652c6b"
      },
      "application/json": {
       "n": 0,
       "total": 850,
       "elapsed": 0.008977174758911133,
       "ncols": null,
       "nrows": null,
       "prefix": "Training Batches",
       "ascii": false,
       "unit": "it",
       "unit_scale": false,
       "rate": null,
       "bar_format": null,
       "postfix": null,
       "unit_divisor": 1000,
       "initial": 0,
       "colour": null
      }
     },
     "metadata": {},
     "output_type": "display_data"
    },
    {
     "name": "stdout",
     "output_type": "stream",
     "text": [
      "Loss: 0.2992214490051436\n",
      "Training Accuracy: 0.9050501333823935\n"
     ]
    },
    {
     "data": {
      "text/plain": "Testing Batches:   0%|          | 0/1854 [00:00<?, ?it/s]",
      "application/vnd.jupyter.widget-view+json": {
       "version_major": 2,
       "version_minor": 0,
       "model_id": "94e9166372864f76b565711755ed531e"
      },
      "application/json": {
       "n": 0,
       "total": 1854,
       "elapsed": 0.007973670959472656,
       "ncols": null,
       "nrows": null,
       "prefix": "Testing Batches",
       "ascii": false,
       "unit": "it",
       "unit_scale": false,
       "rate": null,
       "bar_format": null,
       "postfix": null,
       "unit_divisor": 1000,
       "initial": 0,
       "colour": null
      }
     },
     "metadata": {},
     "output_type": "display_data"
    },
    {
     "name": "stdout",
     "output_type": "stream",
     "text": [
      "Loss: 0.17319859171581597\n",
      "Testing Accuracy: 0.9509591466756608\n"
     ]
    },
    {
     "data": {
      "text/plain": "Training Batches:   0%|          | 0/850 [00:00<?, ?it/s]",
      "application/vnd.jupyter.widget-view+json": {
       "version_major": 2,
       "version_minor": 0,
       "model_id": "ffa8c87762444b8bbef129f4bb638cb7"
      },
      "application/json": {
       "n": 0,
       "total": 850,
       "elapsed": 0.007972240447998047,
       "ncols": null,
       "nrows": null,
       "prefix": "Training Batches",
       "ascii": false,
       "unit": "it",
       "unit_scale": false,
       "rate": null,
       "bar_format": null,
       "postfix": null,
       "unit_divisor": 1000,
       "initial": 0,
       "colour": null
      }
     },
     "metadata": {},
     "output_type": "display_data"
    },
    {
     "name": "stdout",
     "output_type": "stream",
     "text": [
      "Loss: 0.2818304992008694\n",
      "Training Accuracy: 0.9100174776929445\n"
     ]
    },
    {
     "data": {
      "text/plain": "Testing Batches:   0%|          | 0/1854 [00:00<?, ?it/s]",
      "application/vnd.jupyter.widget-view+json": {
       "version_major": 2,
       "version_minor": 0,
       "model_id": "f2e04acf10654f7385e2d3e1f80c0878"
      },
      "application/json": {
       "n": 0,
       "total": 1854,
       "elapsed": 0.007972955703735352,
       "ncols": null,
       "nrows": null,
       "prefix": "Testing Batches",
       "ascii": false,
       "unit": "it",
       "unit_scale": false,
       "rate": null,
       "bar_format": null,
       "postfix": null,
       "unit_divisor": 1000,
       "initial": 0,
       "colour": null
      }
     },
     "metadata": {},
     "output_type": "display_data"
    },
    {
     "name": "stdout",
     "output_type": "stream",
     "text": [
      "Loss: 0.1616464117059671\n",
      "Testing Accuracy: 0.953396011636241\n"
     ]
    },
    {
     "data": {
      "text/plain": "Training Batches:   0%|          | 0/850 [00:00<?, ?it/s]",
      "application/vnd.jupyter.widget-view+json": {
       "version_major": 2,
       "version_minor": 0,
       "model_id": "232734d6691b4321b4e9797dce73a2c0"
      },
      "application/json": {
       "n": 0,
       "total": 850,
       "elapsed": 0.008969306945800781,
       "ncols": null,
       "nrows": null,
       "prefix": "Training Batches",
       "ascii": false,
       "unit": "it",
       "unit_scale": false,
       "rate": null,
       "bar_format": null,
       "postfix": null,
       "unit_divisor": 1000,
       "initial": 0,
       "colour": null
      }
     },
     "metadata": {},
     "output_type": "display_data"
    },
    {
     "name": "stdout",
     "output_type": "stream",
     "text": [
      "Loss: 0.26524995288916053\n",
      "Training Accuracy: 0.9153159782908656\n"
     ]
    },
    {
     "data": {
      "text/plain": "Testing Batches:   0%|          | 0/1854 [00:00<?, ?it/s]",
      "application/vnd.jupyter.widget-view+json": {
       "version_major": 2,
       "version_minor": 0,
       "model_id": "9ab49bf9006945f3990ba09c9e8a09a6"
      },
      "application/json": {
       "n": 0,
       "total": 1854,
       "elapsed": 0.00797271728515625,
       "ncols": null,
       "nrows": null,
       "prefix": "Testing Batches",
       "ascii": false,
       "unit": "it",
       "unit_scale": false,
       "rate": null,
       "bar_format": null,
       "postfix": null,
       "unit_divisor": 1000,
       "initial": 0,
       "colour": null
      }
     },
     "metadata": {},
     "output_type": "display_data"
    },
    {
     "name": "stdout",
     "output_type": "stream",
     "text": [
      "Loss: 0.15178487671965166\n",
      "Testing Accuracy: 0.95563050718833\n"
     ]
    },
    {
     "data": {
      "text/plain": "Training Batches:   0%|          | 0/850 [00:00<?, ?it/s]",
      "application/vnd.jupyter.widget-view+json": {
       "version_major": 2,
       "version_minor": 0,
       "model_id": "0be5f4262bb1460eac86ed726082da40"
      },
      "application/json": {
       "n": 0,
       "total": 850,
       "elapsed": 0.007937908172607422,
       "ncols": null,
       "nrows": null,
       "prefix": "Training Batches",
       "ascii": false,
       "unit": "it",
       "unit_scale": false,
       "rate": null,
       "bar_format": null,
       "postfix": null,
       "unit_divisor": 1000,
       "initial": 0,
       "colour": null
      }
     },
     "metadata": {},
     "output_type": "display_data"
    },
    {
     "name": "stdout",
     "output_type": "stream",
     "text": [
      "Loss: 0.2526053926140337\n",
      "Training Accuracy: 0.9202097323153344\n"
     ]
    },
    {
     "data": {
      "text/plain": "Testing Batches:   0%|          | 0/1854 [00:00<?, ?it/s]",
      "application/vnd.jupyter.widget-view+json": {
       "version_major": 2,
       "version_minor": 0,
       "model_id": "91e0a1a303fe4986a29fae6e0fe01b2b"
      },
      "application/json": {
       "n": 0,
       "total": 1854,
       "elapsed": 0.008012056350708008,
       "ncols": null,
       "nrows": null,
       "prefix": "Testing Batches",
       "ascii": false,
       "unit": "it",
       "unit_scale": false,
       "rate": null,
       "bar_format": null,
       "postfix": null,
       "unit_divisor": 1000,
       "initial": 0,
       "colour": null
      }
     },
     "metadata": {},
     "output_type": "display_data"
    },
    {
     "name": "stdout",
     "output_type": "stream",
     "text": [
      "Loss: 0.14430310729925722\n",
      "Testing Accuracy: 0.9577216577427379\n"
     ]
    },
    {
     "data": {
      "text/plain": "Training Batches:   0%|          | 0/850 [00:00<?, ?it/s]",
      "application/vnd.jupyter.widget-view+json": {
       "version_major": 2,
       "version_minor": 0,
       "model_id": "f6bea35ae149470b80b91ae881194b85"
      },
      "application/json": {
       "n": 0,
       "total": 850,
       "elapsed": 0.007933378219604492,
       "ncols": null,
       "nrows": null,
       "prefix": "Training Batches",
       "ascii": false,
       "unit": "it",
       "unit_scale": false,
       "rate": null,
       "bar_format": null,
       "postfix": null,
       "unit_divisor": 1000,
       "initial": 0,
       "colour": null
      }
     },
     "metadata": {},
     "output_type": "display_data"
    },
    {
     "name": "stdout",
     "output_type": "stream",
     "text": [
      "Loss: 0.24020581151104553\n",
      "Training Accuracy: 0.9251402814828442\n"
     ]
    },
    {
     "data": {
      "text/plain": "Testing Batches:   0%|          | 0/1854 [00:00<?, ?it/s]",
      "application/vnd.jupyter.widget-view+json": {
       "version_major": 2,
       "version_minor": 0,
       "model_id": "ee42bb9355db4edf9628136fca43ec8a"
      },
      "application/json": {
       "n": 0,
       "total": 1854,
       "elapsed": 0.007971525192260742,
       "ncols": null,
       "nrows": null,
       "prefix": "Testing Batches",
       "ascii": false,
       "unit": "it",
       "unit_scale": false,
       "rate": null,
       "bar_format": null,
       "postfix": null,
       "unit_divisor": 1000,
       "initial": 0,
       "colour": null
      }
     },
     "metadata": {},
     "output_type": "display_data"
    },
    {
     "name": "stdout",
     "output_type": "stream",
     "text": [
      "Loss: 0.13881923993152767\n",
      "Testing Accuracy: 0.9591804038956111\n"
     ]
    },
    {
     "data": {
      "text/plain": "Training Batches:   0%|          | 0/850 [00:00<?, ?it/s]",
      "application/vnd.jupyter.widget-view+json": {
       "version_major": 2,
       "version_minor": 0,
       "model_id": "136a5328c1fe405286f6d39cc75a8c1d"
      },
      "application/json": {
       "n": 0,
       "total": 850,
       "elapsed": 0.008969306945800781,
       "ncols": null,
       "nrows": null,
       "prefix": "Training Batches",
       "ascii": false,
       "unit": "it",
       "unit_scale": false,
       "rate": null,
       "bar_format": null,
       "postfix": null,
       "unit_divisor": 1000,
       "initial": 0,
       "colour": null
      }
     },
     "metadata": {},
     "output_type": "display_data"
    },
    {
     "name": "stdout",
     "output_type": "stream",
     "text": [
      "Loss: 0.23017864865178125\n",
      "Training Accuracy: 0.9288749885015178\n"
     ]
    },
    {
     "data": {
      "text/plain": "Testing Batches:   0%|          | 0/1854 [00:00<?, ?it/s]",
      "application/vnd.jupyter.widget-view+json": {
       "version_major": 2,
       "version_minor": 0,
       "model_id": "bce87cb3a3854050bb8f5237760b5de0"
      },
      "application/json": {
       "n": 0,
       "total": 1854,
       "elapsed": 0.00797271728515625,
       "ncols": null,
       "nrows": null,
       "prefix": "Testing Batches",
       "ascii": false,
       "unit": "it",
       "unit_scale": false,
       "rate": null,
       "bar_format": null,
       "postfix": null,
       "unit_divisor": 1000,
       "initial": 0,
       "colour": null
      }
     },
     "metadata": {},
     "output_type": "display_data"
    },
    {
     "name": "stdout",
     "output_type": "stream",
     "text": [
      "Loss: 0.1347390838884653\n",
      "Testing Accuracy: 0.9598549685905814\n"
     ]
    },
    {
     "data": {
      "text/plain": "Training Batches:   0%|          | 0/850 [00:00<?, ?it/s]",
      "application/vnd.jupyter.widget-view+json": {
       "version_major": 2,
       "version_minor": 0,
       "model_id": "4e047381037342618d938e467fd279df"
      },
      "application/json": {
       "n": 0,
       "total": 850,
       "elapsed": 0.007929325103759766,
       "ncols": null,
       "nrows": null,
       "prefix": "Training Batches",
       "ascii": false,
       "unit": "it",
       "unit_scale": false,
       "rate": null,
       "bar_format": null,
       "postfix": null,
       "unit_divisor": 1000,
       "initial": 0,
       "colour": null
      }
     },
     "metadata": {},
     "output_type": "display_data"
    },
    {
     "name": "stdout",
     "output_type": "stream",
     "text": [
      "Loss: 0.22128483858414041\n",
      "Training Accuracy: 0.9316898169441634\n"
     ]
    },
    {
     "data": {
      "text/plain": "Testing Batches:   0%|          | 0/1854 [00:00<?, ?it/s]",
      "application/vnd.jupyter.widget-view+json": {
       "version_major": 2,
       "version_minor": 0,
       "model_id": "cf2b217a74da4588ac3c715fd8c35f00"
      },
      "application/json": {
       "n": 0,
       "total": 1854,
       "elapsed": 0.008008480072021484,
       "ncols": null,
       "nrows": null,
       "prefix": "Testing Batches",
       "ascii": false,
       "unit": "it",
       "unit_scale": false,
       "rate": null,
       "bar_format": null,
       "postfix": null,
       "unit_divisor": 1000,
       "initial": 0,
       "colour": null
      }
     },
     "metadata": {},
     "output_type": "display_data"
    },
    {
     "name": "stdout",
     "output_type": "stream",
     "text": [
      "Loss: 0.13129390696798424\n",
      "Testing Accuracy: 0.9605295332855517\n"
     ]
    },
    {
     "data": {
      "text/plain": "Training Batches:   0%|          | 0/850 [00:00<?, ?it/s]",
      "application/vnd.jupyter.widget-view+json": {
       "version_major": 2,
       "version_minor": 0,
       "model_id": "25a1006e0887454bacd986588f295e70"
      },
      "application/json": {
       "n": 0,
       "total": 850,
       "elapsed": 0.008969783782958984,
       "ncols": null,
       "nrows": null,
       "prefix": "Training Batches",
       "ascii": false,
       "unit": "it",
       "unit_scale": false,
       "rate": null,
       "bar_format": null,
       "postfix": null,
       "unit_divisor": 1000,
       "initial": 0,
       "colour": null
      }
     },
     "metadata": {},
     "output_type": "display_data"
    },
    {
     "name": "stdout",
     "output_type": "stream",
     "text": [
      "Loss: 0.21236421702752362\n",
      "Training Accuracy: 0.9349093919602612\n"
     ]
    },
    {
     "data": {
      "text/plain": "Testing Batches:   0%|          | 0/1854 [00:00<?, ?it/s]",
      "application/vnd.jupyter.widget-view+json": {
       "version_major": 2,
       "version_minor": 0,
       "model_id": "39fcc9892d7645e98a00425cdec4468a"
      },
      "application/json": {
       "n": 0,
       "total": 1854,
       "elapsed": 0.007973432540893555,
       "ncols": null,
       "nrows": null,
       "prefix": "Testing Batches",
       "ascii": false,
       "unit": "it",
       "unit_scale": false,
       "rate": null,
       "bar_format": null,
       "postfix": null,
       "unit_divisor": 1000,
       "initial": 0,
       "colour": null
      }
     },
     "metadata": {},
     "output_type": "display_data"
    },
    {
     "name": "stdout",
     "output_type": "stream",
     "text": [
      "Loss: 0.1281789819607732\n",
      "Testing Accuracy: 0.9615413803280071\n"
     ]
    },
    {
     "data": {
      "text/plain": "Training Batches:   0%|          | 0/850 [00:00<?, ?it/s]",
      "application/vnd.jupyter.widget-view+json": {
       "version_major": 2,
       "version_minor": 0,
       "model_id": "aeaa6b75a6d44ba98c71897a4dd3109b"
      },
      "application/json": {
       "n": 0,
       "total": 850,
       "elapsed": 0.008969545364379883,
       "ncols": null,
       "nrows": null,
       "prefix": "Training Batches",
       "ascii": false,
       "unit": "it",
       "unit_scale": false,
       "rate": null,
       "bar_format": null,
       "postfix": null,
       "unit_divisor": 1000,
       "initial": 0,
       "colour": null
      }
     },
     "metadata": {},
     "output_type": "display_data"
    },
    {
     "name": "stdout",
     "output_type": "stream",
     "text": [
      "Loss: 0.2051352302557044\n",
      "Training Accuracy: 0.9363628001103854\n"
     ]
    },
    {
     "data": {
      "text/plain": "Testing Batches:   0%|          | 0/1854 [00:00<?, ?it/s]",
      "application/vnd.jupyter.widget-view+json": {
       "version_major": 2,
       "version_minor": 0,
       "model_id": "8ed8b5c1cc434ec1a82feb1b16c7a8f3"
      },
      "application/json": {
       "n": 0,
       "total": 1854,
       "elapsed": 0.007972002029418945,
       "ncols": null,
       "nrows": null,
       "prefix": "Testing Batches",
       "ascii": false,
       "unit": "it",
       "unit_scale": false,
       "rate": null,
       "bar_format": null,
       "postfix": null,
       "unit_divisor": 1000,
       "initial": 0,
       "colour": null
      }
     },
     "metadata": {},
     "output_type": "display_data"
    },
    {
     "name": "stdout",
     "output_type": "stream",
     "text": [
      "Loss: 0.12565220796433804\n",
      "Testing Accuracy: 0.96232556178591\n"
     ]
    },
    {
     "data": {
      "text/plain": "Training Batches:   0%|          | 0/850 [00:00<?, ?it/s]",
      "application/vnd.jupyter.widget-view+json": {
       "version_major": 2,
       "version_minor": 0,
       "model_id": "276b1edbefdb49988c0083a53673f0b8"
      },
      "application/json": {
       "n": 0,
       "total": 850,
       "elapsed": 0.008969306945800781,
       "ncols": null,
       "nrows": null,
       "prefix": "Training Batches",
       "ascii": false,
       "unit": "it",
       "unit_scale": false,
       "rate": null,
       "bar_format": null,
       "postfix": null,
       "unit_divisor": 1000,
       "initial": 0,
       "colour": null
      }
     },
     "metadata": {},
     "output_type": "display_data"
    },
    {
     "name": "stdout",
     "output_type": "stream",
     "text": [
      "Loss: 0.19709106480874386\n",
      "Training Accuracy: 0.9390672431239077\n"
     ]
    },
    {
     "data": {
      "text/plain": "Testing Batches:   0%|          | 0/1854 [00:00<?, ?it/s]",
      "application/vnd.jupyter.widget-view+json": {
       "version_major": 2,
       "version_minor": 0,
       "model_id": "4bfbc398f6714bc29b35e06050a03155"
      },
      "application/json": {
       "n": 0,
       "total": 1854,
       "elapsed": 0.008970022201538086,
       "ncols": null,
       "nrows": null,
       "prefix": "Testing Batches",
       "ascii": false,
       "unit": "it",
       "unit_scale": false,
       "rate": null,
       "bar_format": null,
       "postfix": null,
       "unit_divisor": 1000,
       "initial": 0,
       "colour": null
      }
     },
     "metadata": {},
     "output_type": "display_data"
    },
    {
     "name": "stdout",
     "output_type": "stream",
     "text": [
      "Loss: 0.12296877061242278\n",
      "Testing Accuracy: 0.9629916944221931\n"
     ]
    },
    {
     "data": {
      "text/plain": "Training Batches:   0%|          | 0/850 [00:00<?, ?it/s]",
      "application/vnd.jupyter.widget-view+json": {
       "version_major": 2,
       "version_minor": 0,
       "model_id": "96f01587a8c6429790fcc19b740bbbe1"
      },
      "application/json": {
       "n": 0,
       "total": 850,
       "elapsed": 0.007931709289550781,
       "ncols": null,
       "nrows": null,
       "prefix": "Training Batches",
       "ascii": false,
       "unit": "it",
       "unit_scale": false,
       "rate": null,
       "bar_format": null,
       "postfix": null,
       "unit_divisor": 1000,
       "initial": 0,
       "colour": null
      }
     },
     "metadata": {},
     "output_type": "display_data"
    },
    {
     "name": "stdout",
     "output_type": "stream",
     "text": [
      "Loss: 0.19239699762283527\n",
      "Training Accuracy: 0.9409437954190046\n"
     ]
    },
    {
     "data": {
      "text/plain": "Testing Batches:   0%|          | 0/1854 [00:00<?, ?it/s]",
      "application/vnd.jupyter.widget-view+json": {
       "version_major": 2,
       "version_minor": 0,
       "model_id": "bfe00c4471ab43be940ecfd346dd4ff2"
      },
      "application/json": {
       "n": 0,
       "total": 1854,
       "elapsed": 0.008969783782958984,
       "ncols": null,
       "nrows": null,
       "prefix": "Testing Batches",
       "ascii": false,
       "unit": "it",
       "unit_scale": false,
       "rate": null,
       "bar_format": null,
       "postfix": null,
       "unit_divisor": 1000,
       "initial": 0,
       "colour": null
      }
     },
     "metadata": {},
     "output_type": "display_data"
    },
    {
     "name": "stdout",
     "output_type": "stream",
     "text": [
      "Loss: 0.12066437079898457\n",
      "Testing Accuracy: 0.9636156667650407\n"
     ]
    },
    {
     "data": {
      "text/plain": "Training Batches:   0%|          | 0/850 [00:00<?, ?it/s]",
      "application/vnd.jupyter.widget-view+json": {
       "version_major": 2,
       "version_minor": 0,
       "model_id": "4078227895ea40ee997c6b94db7b83d0"
      },
      "application/json": {
       "n": 0,
       "total": 850,
       "elapsed": 0.007973194122314453,
       "ncols": null,
       "nrows": null,
       "prefix": "Training Batches",
       "ascii": false,
       "unit": "it",
       "unit_scale": false,
       "rate": null,
       "bar_format": null,
       "postfix": null,
       "unit_divisor": 1000,
       "initial": 0,
       "colour": null
      }
     },
     "metadata": {},
     "output_type": "display_data"
    },
    {
     "name": "stdout",
     "output_type": "stream",
     "text": [
      "Loss: 0.18619776814343875\n",
      "Training Accuracy: 0.942599576855855\n"
     ]
    },
    {
     "data": {
      "text/plain": "Testing Batches:   0%|          | 0/1854 [00:00<?, ?it/s]",
      "application/vnd.jupyter.widget-view+json": {
       "version_major": 2,
       "version_minor": 0,
       "model_id": "9dbef10404da4b1e8f98ee0468205f7a"
      },
      "application/json": {
       "n": 0,
       "total": 1854,
       "elapsed": 0.00896906852722168,
       "ncols": null,
       "nrows": null,
       "prefix": "Testing Batches",
       "ascii": false,
       "unit": "it",
       "unit_scale": false,
       "rate": null,
       "bar_format": null,
       "postfix": null,
       "unit_divisor": 1000,
       "initial": 0,
       "colour": null
      }
     },
     "metadata": {},
     "output_type": "display_data"
    },
    {
     "name": "stdout",
     "output_type": "stream",
     "text": [
      "Loss: 0.11843592560842046\n",
      "Testing Accuracy: 0.9641974788144525\n"
     ]
    },
    {
     "data": {
      "text/plain": "Training Batches:   0%|          | 0/850 [00:00<?, ?it/s]",
      "application/vnd.jupyter.widget-view+json": {
       "version_major": 2,
       "version_minor": 0,
       "model_id": "c010f301ede0481d8b6f1794cc9bbdf0"
      },
      "application/json": {
       "n": 0,
       "total": 850,
       "elapsed": 0.007934331893920898,
       "ncols": null,
       "nrows": null,
       "prefix": "Training Batches",
       "ascii": false,
       "unit": "it",
       "unit_scale": false,
       "rate": null,
       "bar_format": null,
       "postfix": null,
       "unit_divisor": 1000,
       "initial": 0,
       "colour": null
      }
     },
     "metadata": {},
     "output_type": "display_data"
    },
    {
     "name": "stdout",
     "output_type": "stream",
     "text": [
      "Loss: 0.18231388699491885\n",
      "Training Accuracy: 0.9432434918590746\n"
     ]
    },
    {
     "data": {
      "text/plain": "Testing Batches:   0%|          | 0/1854 [00:00<?, ?it/s]",
      "application/vnd.jupyter.widget-view+json": {
       "version_major": 2,
       "version_minor": 0,
       "model_id": "b38e4db410a946f98dbe32d9cb308eb3"
      },
      "application/json": {
       "n": 0,
       "total": 1854,
       "elapsed": 0.007930994033813477,
       "ncols": null,
       "nrows": null,
       "prefix": "Testing Batches",
       "ascii": false,
       "unit": "it",
       "unit_scale": false,
       "rate": null,
       "bar_format": null,
       "postfix": null,
       "unit_divisor": 1000,
       "initial": 0,
       "colour": null
      }
     },
     "metadata": {},
     "output_type": "display_data"
    },
    {
     "name": "stdout",
     "output_type": "stream",
     "text": [
      "Loss: 0.11667488978573769\n",
      "Testing Accuracy: 0.9644588726337535\n"
     ]
    },
    {
     "data": {
      "text/plain": "Training Batches:   0%|          | 0/850 [00:00<?, ?it/s]",
      "application/vnd.jupyter.widget-view+json": {
       "version_major": 2,
       "version_minor": 0,
       "model_id": "51a0bbf0196a409b9cf76009e66bc062"
      },
      "application/json": {
       "n": 0,
       "total": 850,
       "elapsed": 0.007972478866577148,
       "ncols": null,
       "nrows": null,
       "prefix": "Training Batches",
       "ascii": false,
       "unit": "it",
       "unit_scale": false,
       "rate": null,
       "bar_format": null,
       "postfix": null,
       "unit_divisor": 1000,
       "initial": 0,
       "colour": null
      }
     },
     "metadata": {},
     "output_type": "display_data"
    },
    {
     "name": "stdout",
     "output_type": "stream",
     "text": [
      "Loss: 0.17793542504750162\n",
      "Training Accuracy: 0.9451752368687333\n"
     ]
    },
    {
     "data": {
      "text/plain": "Testing Batches:   0%|          | 0/1854 [00:00<?, ?it/s]",
      "application/vnd.jupyter.widget-view+json": {
       "version_major": 2,
       "version_minor": 0,
       "model_id": "93e2583e0eca453288d53e642f157745"
      },
      "application/json": {
       "n": 0,
       "total": 1854,
       "elapsed": 0.009935379028320312,
       "ncols": null,
       "nrows": null,
       "prefix": "Testing Batches",
       "ascii": false,
       "unit": "it",
       "unit_scale": false,
       "rate": null,
       "bar_format": null,
       "postfix": null,
       "unit_divisor": 1000,
       "initial": 0,
       "colour": null
      }
     },
     "metadata": {},
     "output_type": "display_data"
    },
    {
     "name": "stdout",
     "output_type": "stream",
     "text": [
      "Loss: 0.11503230613105536\n",
      "Testing Accuracy: 0.9646781061596189\n"
     ]
    },
    {
     "data": {
      "text/plain": "Training Batches:   0%|          | 0/850 [00:00<?, ?it/s]",
      "application/vnd.jupyter.widget-view+json": {
       "version_major": 2,
       "version_minor": 0,
       "model_id": "e34ffe140e7446dd927409f7900ad8a8"
      },
      "application/json": {
       "n": 0,
       "total": 850,
       "elapsed": 0.008969545364379883,
       "ncols": null,
       "nrows": null,
       "prefix": "Training Batches",
       "ascii": false,
       "unit": "it",
       "unit_scale": false,
       "rate": null,
       "bar_format": null,
       "postfix": null,
       "unit_divisor": 1000,
       "initial": 0,
       "colour": null
      }
     },
     "metadata": {},
     "output_type": "display_data"
    },
    {
     "name": "stdout",
     "output_type": "stream",
     "text": [
      "Loss: 0.17540569370066378\n",
      "Training Accuracy: 0.9459111397295557\n"
     ]
    },
    {
     "data": {
      "text/plain": "Testing Batches:   0%|          | 0/1854 [00:00<?, ?it/s]",
      "application/vnd.jupyter.widget-view+json": {
       "version_major": 2,
       "version_minor": 0,
       "model_id": "02faac3a44f54370839aa2dc0073e309"
      },
      "application/json": {
       "n": 0,
       "total": 1854,
       "elapsed": 0.007976293563842773,
       "ncols": null,
       "nrows": null,
       "prefix": "Testing Batches",
       "ascii": false,
       "unit": "it",
       "unit_scale": false,
       "rate": null,
       "bar_format": null,
       "postfix": null,
       "unit_divisor": 1000,
       "initial": 0,
       "colour": null
      }
     },
     "metadata": {},
     "output_type": "display_data"
    },
    {
     "name": "stdout",
     "output_type": "stream",
     "text": [
      "Loss: 0.11342773986587244\n",
      "Testing Accuracy: 0.9650238205657912\n"
     ]
    },
    {
     "data": {
      "text/plain": "Training Batches:   0%|          | 0/850 [00:00<?, ?it/s]",
      "application/vnd.jupyter.widget-view+json": {
       "version_major": 2,
       "version_minor": 0,
       "model_id": "a509c4fca2c04932b2ffaf184b9c5fa6"
      },
      "application/json": {
       "n": 0,
       "total": 850,
       "elapsed": 0.008924007415771484,
       "ncols": null,
       "nrows": null,
       "prefix": "Training Batches",
       "ascii": false,
       "unit": "it",
       "unit_scale": false,
       "rate": null,
       "bar_format": null,
       "postfix": null,
       "unit_divisor": 1000,
       "initial": 0,
       "colour": null
      }
     },
     "metadata": {},
     "output_type": "display_data"
    },
    {
     "name": "stdout",
     "output_type": "stream",
     "text": [
      "Loss: 0.17017199056092067\n",
      "Training Accuracy: 0.9471253794499126\n"
     ]
    },
    {
     "data": {
      "text/plain": "Testing Batches:   0%|          | 0/1854 [00:00<?, ?it/s]",
      "application/vnd.jupyter.widget-view+json": {
       "version_major": 2,
       "version_minor": 0,
       "model_id": "ae76762b913f4b23a7d796b23e0b4ecf"
      },
      "application/json": {
       "n": 0,
       "total": 1854,
       "elapsed": 0.007965326309204102,
       "ncols": null,
       "nrows": null,
       "prefix": "Testing Batches",
       "ascii": false,
       "unit": "it",
       "unit_scale": false,
       "rate": null,
       "bar_format": null,
       "postfix": null,
       "unit_divisor": 1000,
       "initial": 0,
       "colour": null
      }
     },
     "metadata": {},
     "output_type": "display_data"
    },
    {
     "name": "stdout",
     "output_type": "stream",
     "text": [
      "Loss: 0.11227576990998553\n",
      "Testing Accuracy: 0.965276782326405\n"
     ]
    },
    {
     "data": {
      "text/plain": "Training Batches:   0%|          | 0/850 [00:00<?, ?it/s]",
      "application/vnd.jupyter.widget-view+json": {
       "version_major": 2,
       "version_minor": 0,
       "model_id": "5198876b38c54d0eaa249072db688692"
      },
      "application/json": {
       "n": 0,
       "total": 850,
       "elapsed": 0.007936954498291016,
       "ncols": null,
       "nrows": null,
       "prefix": "Training Batches",
       "ascii": false,
       "unit": "it",
       "unit_scale": false,
       "rate": null,
       "bar_format": null,
       "postfix": null,
       "unit_divisor": 1000,
       "initial": 0,
       "colour": null
      }
     },
     "metadata": {},
     "output_type": "display_data"
    },
    {
     "name": "stdout",
     "output_type": "stream",
     "text": [
      "Loss: 0.1677327452814536\n",
      "Training Accuracy: 0.9471621745929537\n"
     ]
    },
    {
     "data": {
      "text/plain": "Testing Batches:   0%|          | 0/1854 [00:00<?, ?it/s]",
      "application/vnd.jupyter.widget-view+json": {
       "version_major": 2,
       "version_minor": 0,
       "model_id": "a29030d27b504b64acd42e4ba932167d"
      },
      "application/json": {
       "n": 0,
       "total": 1854,
       "elapsed": 0.007984399795532227,
       "ncols": null,
       "nrows": null,
       "prefix": "Testing Batches",
       "ascii": false,
       "unit": "it",
       "unit_scale": false,
       "rate": null,
       "bar_format": null,
       "postfix": null,
       "unit_divisor": 1000,
       "initial": 0,
       "colour": null
      }
     },
     "metadata": {},
     "output_type": "display_data"
    },
    {
     "name": "stdout",
     "output_type": "stream",
     "text": [
      "Loss: 0.11098551058118662\n",
      "Testing Accuracy: 0.9656477929086387\n"
     ]
    },
    {
     "data": {
      "text/plain": "Training Batches:   0%|          | 0/850 [00:00<?, ?it/s]",
      "application/vnd.jupyter.widget-view+json": {
       "version_major": 2,
       "version_minor": 0,
       "model_id": "b867cda8eb5f4b1a80fcd66f8200544d"
      },
      "application/json": {
       "n": 0,
       "total": 850,
       "elapsed": 0.00797271728515625,
       "ncols": null,
       "nrows": null,
       "prefix": "Training Batches",
       "ascii": false,
       "unit": "it",
       "unit_scale": false,
       "rate": null,
       "bar_format": null,
       "postfix": null,
       "unit_divisor": 1000,
       "initial": 0,
       "colour": null
      }
     },
     "metadata": {},
     "output_type": "display_data"
    },
    {
     "name": "stdout",
     "output_type": "stream",
     "text": [
      "Loss: 0.1645291054996757\n",
      "Training Accuracy: 0.948486799742434\n"
     ]
    },
    {
     "data": {
      "text/plain": "Testing Batches:   0%|          | 0/1854 [00:00<?, ?it/s]",
      "application/vnd.jupyter.widget-view+json": {
       "version_major": 2,
       "version_minor": 0,
       "model_id": "f9a2b16dbc5e4f23a2fe11bff14a0a04"
      },
      "application/json": {
       "n": 0,
       "total": 1854,
       "elapsed": 0.007972955703735352,
       "ncols": null,
       "nrows": null,
       "prefix": "Testing Batches",
       "ascii": false,
       "unit": "it",
       "unit_scale": false,
       "rate": null,
       "bar_format": null,
       "postfix": null,
       "unit_divisor": 1000,
       "initial": 0,
       "colour": null
      }
     },
     "metadata": {},
     "output_type": "display_data"
    },
    {
     "name": "stdout",
     "output_type": "stream",
     "text": [
      "Loss: 0.1097501600962649\n",
      "Testing Accuracy: 0.9658754584931911\n"
     ]
    },
    {
     "data": {
      "text/plain": "Training Batches:   0%|          | 0/850 [00:00<?, ?it/s]",
      "application/vnd.jupyter.widget-view+json": {
       "version_major": 2,
       "version_minor": 0,
       "model_id": "14cbaef1a53b4319a99b1a44b402a017"
      },
      "application/json": {
       "n": 0,
       "total": 850,
       "elapsed": 0.01099848747253418,
       "ncols": null,
       "nrows": null,
       "prefix": "Training Batches",
       "ascii": false,
       "unit": "it",
       "unit_scale": false,
       "rate": null,
       "bar_format": null,
       "postfix": null,
       "unit_divisor": 1000,
       "initial": 0,
       "colour": null
      }
     },
     "metadata": {},
     "output_type": "display_data"
    },
    {
     "name": "stdout",
     "output_type": "stream",
     "text": [
      "Loss: 0.16066156364089157\n",
      "Training Accuracy: 0.9492411001747769\n"
     ]
    },
    {
     "data": {
      "text/plain": "Testing Batches:   0%|          | 0/1854 [00:00<?, ?it/s]",
      "application/vnd.jupyter.widget-view+json": {
       "version_major": 2,
       "version_minor": 0,
       "model_id": "91a1286675014a959aaaf798e2bb14ee"
      },
      "application/json": {
       "n": 0,
       "total": 1854,
       "elapsed": 0.008928060531616211,
       "ncols": null,
       "nrows": null,
       "prefix": "Testing Batches",
       "ascii": false,
       "unit": "it",
       "unit_scale": false,
       "rate": null,
       "bar_format": null,
       "postfix": null,
       "unit_divisor": 1000,
       "initial": 0,
       "colour": null
      }
     },
     "metadata": {},
     "output_type": "display_data"
    },
    {
     "name": "stdout",
     "output_type": "stream",
     "text": [
      "Loss: 0.10865304145529116\n",
      "Testing Accuracy: 0.9661031240777436\n"
     ]
    },
    {
     "data": {
      "text/plain": "Training Batches:   0%|          | 0/850 [00:00<?, ?it/s]",
      "application/vnd.jupyter.widget-view+json": {
       "version_major": 2,
       "version_minor": 0,
       "model_id": "87e78171adf64c07bf860ab7ef23b9e4"
      },
      "application/json": {
       "n": 0,
       "total": 850,
       "elapsed": 0.007980585098266602,
       "ncols": null,
       "nrows": null,
       "prefix": "Training Batches",
       "ascii": false,
       "unit": "it",
       "unit_scale": false,
       "rate": null,
       "bar_format": null,
       "postfix": null,
       "unit_divisor": 1000,
       "initial": 0,
       "colour": null
      }
     },
     "metadata": {},
     "output_type": "display_data"
    },
    {
     "name": "stdout",
     "output_type": "stream",
     "text": [
      "Loss: 0.15688783631177397\n",
      "Training Accuracy: 0.9502713641799283\n"
     ]
    },
    {
     "data": {
      "text/plain": "Testing Batches:   0%|          | 0/1854 [00:00<?, ?it/s]",
      "application/vnd.jupyter.widget-view+json": {
       "version_major": 2,
       "version_minor": 0,
       "model_id": "9652e76b186544ebaf78a4b3505958c2"
      },
      "application/json": {
       "n": 0,
       "total": 1854,
       "elapsed": 0.010992050170898438,
       "ncols": null,
       "nrows": null,
       "prefix": "Testing Batches",
       "ascii": false,
       "unit": "it",
       "unit_scale": false,
       "rate": null,
       "bar_format": null,
       "postfix": null,
       "unit_divisor": 1000,
       "initial": 0,
       "colour": null
      }
     },
     "metadata": {},
     "output_type": "display_data"
    },
    {
     "name": "stdout",
     "output_type": "stream",
     "text": [
      "Loss: 0.10766345312734713\n",
      "Testing Accuracy: 0.9663476537796704\n"
     ]
    },
    {
     "data": {
      "text/plain": "Training Batches:   0%|          | 0/850 [00:00<?, ?it/s]",
      "application/vnd.jupyter.widget-view+json": {
       "version_major": 2,
       "version_minor": 0,
       "model_id": "b8c8351328a5413c85de57618412c988"
      },
      "application/json": {
       "n": 0,
       "total": 850,
       "elapsed": 0.00798344612121582,
       "ncols": null,
       "nrows": null,
       "prefix": "Training Batches",
       "ascii": false,
       "unit": "it",
       "unit_scale": false,
       "rate": null,
       "bar_format": null,
       "postfix": null,
       "unit_divisor": 1000,
       "initial": 0,
       "colour": null
      }
     },
     "metadata": {},
     "output_type": "display_data"
    },
    {
     "name": "stdout",
     "output_type": "stream",
     "text": [
      "Loss: 0.15433168827246044\n",
      "Training Accuracy: 0.9519271456167786\n"
     ]
    },
    {
     "data": {
      "text/plain": "Testing Batches:   0%|          | 0/1854 [00:00<?, ?it/s]",
      "application/vnd.jupyter.widget-view+json": {
       "version_major": 2,
       "version_minor": 0,
       "model_id": "d49c73b3b9494eab87f674e7a48353f6"
      },
      "application/json": {
       "n": 0,
       "total": 1854,
       "elapsed": 0.009966135025024414,
       "ncols": null,
       "nrows": null,
       "prefix": "Testing Batches",
       "ascii": false,
       "unit": "it",
       "unit_scale": false,
       "rate": null,
       "bar_format": null,
       "postfix": null,
       "unit_divisor": 1000,
       "initial": 0,
       "colour": null
      }
     },
     "metadata": {},
     "output_type": "display_data"
    },
    {
     "name": "stdout",
     "output_type": "stream",
     "text": [
      "Loss: 0.1066814713088578\n",
      "Testing Accuracy: 0.9665247270121\n"
     ]
    },
    {
     "data": {
      "text/plain": "Training Batches:   0%|          | 0/850 [00:00<?, ?it/s]",
      "application/vnd.jupyter.widget-view+json": {
       "version_major": 2,
       "version_minor": 0,
       "model_id": "4078097f30744c23a93ce9d0bb74745f"
      },
      "application/json": {
       "n": 0,
       "total": 850,
       "elapsed": 0.008960247039794922,
       "ncols": null,
       "nrows": null,
       "prefix": "Training Batches",
       "ascii": false,
       "unit": "it",
       "unit_scale": false,
       "rate": null,
       "bar_format": null,
       "postfix": null,
       "unit_divisor": 1000,
       "initial": 0,
       "colour": null
      }
     },
     "metadata": {},
     "output_type": "display_data"
    },
    {
     "name": "stdout",
     "output_type": "stream",
     "text": [
      "Loss: 0.15151459731542485\n",
      "Training Accuracy: 0.9523134946187103\n"
     ]
    },
    {
     "data": {
      "text/plain": "Testing Batches:   0%|          | 0/1854 [00:00<?, ?it/s]",
      "application/vnd.jupyter.widget-view+json": {
       "version_major": 2,
       "version_minor": 0,
       "model_id": "3157a6ba49774ae7b278a601cfee0057"
      },
      "application/json": {
       "n": 0,
       "total": 1854,
       "elapsed": 0.007973194122314453,
       "ncols": null,
       "nrows": null,
       "prefix": "Testing Batches",
       "ascii": false,
       "unit": "it",
       "unit_scale": false,
       "rate": null,
       "bar_format": null,
       "postfix": null,
       "unit_divisor": 1000,
       "initial": 0,
       "colour": null
      }
     },
     "metadata": {},
     "output_type": "display_data"
    },
    {
     "name": "stdout",
     "output_type": "stream",
     "text": [
      "Loss: 0.1057340046379157\n",
      "Testing Accuracy: 0.9668704414182723\n"
     ]
    },
    {
     "data": {
      "text/plain": "Training Batches:   0%|          | 0/850 [00:00<?, ?it/s]",
      "application/vnd.jupyter.widget-view+json": {
       "version_major": 2,
       "version_minor": 0,
       "model_id": "be4c67a29abe4a13a815cb03553b7c1c"
      },
      "application/json": {
       "n": 0,
       "total": 850,
       "elapsed": 0.01093292236328125,
       "ncols": null,
       "nrows": null,
       "prefix": "Training Batches",
       "ascii": false,
       "unit": "it",
       "unit_scale": false,
       "rate": null,
       "bar_format": null,
       "postfix": null,
       "unit_divisor": 1000,
       "initial": 0,
       "colour": null
      }
     },
     "metadata": {},
     "output_type": "display_data"
    },
    {
     "name": "stdout",
     "output_type": "stream",
     "text": [
      "Loss: 0.15078389091216168\n",
      "Training Accuracy: 0.9521111213319842\n"
     ]
    },
    {
     "data": {
      "text/plain": "Testing Batches:   0%|          | 0/1854 [00:00<?, ?it/s]",
      "application/vnd.jupyter.widget-view+json": {
       "version_major": 2,
       "version_minor": 0,
       "model_id": "fbabfdf344114cff86903b4578536a2c"
      },
      "application/json": {
       "n": 0,
       "total": 1854,
       "elapsed": 0.008968830108642578,
       "ncols": null,
       "nrows": null,
       "prefix": "Testing Batches",
       "ascii": false,
       "unit": "it",
       "unit_scale": false,
       "rate": null,
       "bar_format": null,
       "postfix": null,
       "unit_divisor": 1000,
       "initial": 0,
       "colour": null
      }
     },
     "metadata": {},
     "output_type": "display_data"
    },
    {
     "name": "stdout",
     "output_type": "stream",
     "text": [
      "Loss: 0.10479295085426306\n",
      "Testing Accuracy: 0.9671992917070703\n"
     ]
    },
    {
     "data": {
      "text/plain": "Training Batches:   0%|          | 0/850 [00:00<?, ?it/s]",
      "application/vnd.jupyter.widget-view+json": {
       "version_major": 2,
       "version_minor": 0,
       "model_id": "8192f34e33c14d90a01f9f1c7c601926"
      },
      "application/json": {
       "n": 0,
       "total": 850,
       "elapsed": 0.007973194122314453,
       "ncols": null,
       "nrows": null,
       "prefix": "Training Batches",
       "ascii": false,
       "unit": "it",
       "unit_scale": false,
       "rate": null,
       "bar_format": null,
       "postfix": null,
       "unit_divisor": 1000,
       "initial": 0,
       "colour": null
      }
     },
     "metadata": {},
     "output_type": "display_data"
    },
    {
     "name": "stdout",
     "output_type": "stream",
     "text": [
      "Loss: 0.14665568618955604\n",
      "Training Accuracy: 0.9534173489099439\n"
     ]
    },
    {
     "data": {
      "text/plain": "Testing Batches:   0%|          | 0/1854 [00:00<?, ?it/s]",
      "application/vnd.jupyter.widget-view+json": {
       "version_major": 2,
       "version_minor": 0,
       "model_id": "6005e33604ea493c859d41817a867424"
      },
      "application/json": {
       "n": 0,
       "total": 1854,
       "elapsed": 0.007982969284057617,
       "ncols": null,
       "nrows": null,
       "prefix": "Testing Batches",
       "ascii": false,
       "unit": "it",
       "unit_scale": false,
       "rate": null,
       "bar_format": null,
       "postfix": null,
       "unit_divisor": 1000,
       "initial": 0,
       "colour": null
      }
     },
     "metadata": {},
     "output_type": "display_data"
    },
    {
     "name": "stdout",
     "output_type": "stream",
     "text": [
      "Loss: 0.103965339330074\n",
      "Testing Accuracy: 0.9674775496437455\n"
     ]
    },
    {
     "data": {
      "text/plain": "Training Batches:   0%|          | 0/850 [00:00<?, ?it/s]",
      "application/vnd.jupyter.widget-view+json": {
       "version_major": 2,
       "version_minor": 0,
       "model_id": "66325a5b5555472b8a46b26e54dede1b"
      },
      "application/json": {
       "n": 0,
       "total": 850,
       "elapsed": 0.009966135025024414,
       "ncols": null,
       "nrows": null,
       "prefix": "Training Batches",
       "ascii": false,
       "unit": "it",
       "unit_scale": false,
       "rate": null,
       "bar_format": null,
       "postfix": null,
       "unit_divisor": 1000,
       "initial": 0,
       "colour": null
      }
     },
     "metadata": {},
     "output_type": "display_data"
    },
    {
     "name": "stdout",
     "output_type": "stream",
     "text": [
      "Loss: 0.14412545101365903\n",
      "Training Accuracy: 0.954079661484684\n"
     ]
    },
    {
     "data": {
      "text/plain": "Testing Batches:   0%|          | 0/1854 [00:00<?, ?it/s]",
      "application/vnd.jupyter.widget-view+json": {
       "version_major": 2,
       "version_minor": 0,
       "model_id": "97523fce1780482883ae4fb10b588656"
      },
      "application/json": {
       "n": 0,
       "total": 1854,
       "elapsed": 0.007973432540893555,
       "ncols": null,
       "nrows": null,
       "prefix": "Testing Batches",
       "ascii": false,
       "unit": "it",
       "unit_scale": false,
       "rate": null,
       "bar_format": null,
       "postfix": null,
       "unit_divisor": 1000,
       "initial": 0,
       "colour": null
      }
     },
     "metadata": {},
     "output_type": "display_data"
    },
    {
     "name": "stdout",
     "output_type": "stream",
     "text": [
      "Loss: 0.1031244337920378\n",
      "Testing Accuracy: 0.9676799190522366\n"
     ]
    },
    {
     "data": {
      "text/plain": "Training Batches:   0%|          | 0/850 [00:00<?, ?it/s]",
      "application/vnd.jupyter.widget-view+json": {
       "version_major": 2,
       "version_minor": 0,
       "model_id": "411eb21b3d3e4089a1a0881062833594"
      },
      "application/json": {
       "n": 0,
       "total": 850,
       "elapsed": 0.007958412170410156,
       "ncols": null,
       "nrows": null,
       "prefix": "Training Batches",
       "ascii": false,
       "unit": "it",
       "unit_scale": false,
       "rate": null,
       "bar_format": null,
       "postfix": null,
       "unit_divisor": 1000,
       "initial": 0,
       "colour": null
      }
     },
     "metadata": {},
     "output_type": "display_data"
    },
    {
     "name": "stdout",
     "output_type": "stream",
     "text": [
      "Loss: 0.14187224167121631\n",
      "Training Accuracy: 0.9543556250574924\n"
     ]
    },
    {
     "data": {
      "text/plain": "Testing Batches:   0%|          | 0/1854 [00:00<?, ?it/s]",
      "application/vnd.jupyter.widget-view+json": {
       "version_major": 2,
       "version_minor": 0,
       "model_id": "b2d54afa1e5b497897e1f613fd89fc33"
      },
      "application/json": {
       "n": 0,
       "total": 1854,
       "elapsed": 0.00897359848022461,
       "ncols": null,
       "nrows": null,
       "prefix": "Testing Batches",
       "ascii": false,
       "unit": "it",
       "unit_scale": false,
       "rate": null,
       "bar_format": null,
       "postfix": null,
       "unit_divisor": 1000,
       "initial": 0,
       "colour": null
      }
     },
     "metadata": {},
     "output_type": "display_data"
    },
    {
     "name": "stdout",
     "output_type": "stream",
     "text": [
      "Loss: 0.10222316419215638\n",
      "Testing Accuracy: 0.9679834731649732\n"
     ]
    },
    {
     "data": {
      "text/plain": "Training Batches:   0%|          | 0/850 [00:00<?, ?it/s]",
      "application/vnd.jupyter.widget-view+json": {
       "version_major": 2,
       "version_minor": 0,
       "model_id": "ef772083c6f54937afc3d92ebbee9e3d"
      },
      "application/json": {
       "n": 0,
       "total": 850,
       "elapsed": 0.008969306945800781,
       "ncols": null,
       "nrows": null,
       "prefix": "Training Batches",
       "ascii": false,
       "unit": "it",
       "unit_scale": false,
       "rate": null,
       "bar_format": null,
       "postfix": null,
       "unit_divisor": 1000,
       "initial": 0,
       "colour": null
      }
     },
     "metadata": {},
     "output_type": "display_data"
    },
    {
     "name": "stdout",
     "output_type": "stream",
     "text": [
      "Loss: 0.13907449202177918\n",
      "Training Accuracy: 0.9546315886303008\n"
     ]
    },
    {
     "data": {
      "text/plain": "Testing Batches:   0%|          | 0/1854 [00:00<?, ?it/s]",
      "application/vnd.jupyter.widget-view+json": {
       "version_major": 2,
       "version_minor": 0,
       "model_id": "bd7d960d1b9247a4a894d106dd514d29"
      },
      "application/json": {
       "n": 0,
       "total": 1854,
       "elapsed": 0.008970260620117188,
       "ncols": null,
       "nrows": null,
       "prefix": "Testing Batches",
       "ascii": false,
       "unit": "it",
       "unit_scale": false,
       "rate": null,
       "bar_format": null,
       "postfix": null,
       "unit_divisor": 1000,
       "initial": 0,
       "colour": null
      }
     },
     "metadata": {},
     "output_type": "display_data"
    },
    {
     "name": "stdout",
     "output_type": "stream",
     "text": [
      "Loss: 0.10145698046242618\n",
      "Testing Accuracy: 0.9681352502213415\n"
     ]
    },
    {
     "data": {
      "text/plain": "Training Batches:   0%|          | 0/850 [00:00<?, ?it/s]",
      "application/vnd.jupyter.widget-view+json": {
       "version_major": 2,
       "version_minor": 0,
       "model_id": "3a3cbe41e9a74e2a97c3a1b33c368284"
      },
      "application/json": {
       "n": 0,
       "total": 850,
       "elapsed": 0.011959075927734375,
       "ncols": null,
       "nrows": null,
       "prefix": "Training Batches",
       "ascii": false,
       "unit": "it",
       "unit_scale": false,
       "rate": null,
       "bar_format": null,
       "postfix": null,
       "unit_divisor": 1000,
       "initial": 0,
       "colour": null
      }
     },
     "metadata": {},
     "output_type": "display_data"
    },
    {
     "name": "stdout",
     "output_type": "stream",
     "text": [
      "Loss: 0.13645279857626186\n",
      "Training Accuracy: 0.956084996780425\n"
     ]
    },
    {
     "data": {
      "text/plain": "Testing Batches:   0%|          | 0/1854 [00:00<?, ?it/s]",
      "application/vnd.jupyter.widget-view+json": {
       "version_major": 2,
       "version_minor": 0,
       "model_id": "94c308e8a98747b89c084dcf09403138"
      },
      "application/json": {
       "n": 0,
       "total": 1854,
       "elapsed": 0.010010480880737305,
       "ncols": null,
       "nrows": null,
       "prefix": "Testing Batches",
       "ascii": false,
       "unit": "it",
       "unit_scale": false,
       "rate": null,
       "bar_format": null,
       "postfix": null,
       "unit_divisor": 1000,
       "initial": 0,
       "colour": null
      }
     },
     "metadata": {},
     "output_type": "display_data"
    },
    {
     "name": "stdout",
     "output_type": "stream",
     "text": [
      "Loss: 0.10073474231132752\n",
      "Testing Accuracy: 0.9682701631603357\n"
     ]
    },
    {
     "data": {
      "text/plain": "Training Batches:   0%|          | 0/850 [00:00<?, ?it/s]",
      "application/vnd.jupyter.widget-view+json": {
       "version_major": 2,
       "version_minor": 0,
       "model_id": "045dbc723d104866b965197106f624fc"
      },
      "application/json": {
       "n": 0,
       "total": 850,
       "elapsed": 0.007973194122314453,
       "ncols": null,
       "nrows": null,
       "prefix": "Training Batches",
       "ascii": false,
       "unit": "it",
       "unit_scale": false,
       "rate": null,
       "bar_format": null,
       "postfix": null,
       "unit_divisor": 1000,
       "initial": 0,
       "colour": null
      }
     },
     "metadata": {},
     "output_type": "display_data"
    },
    {
     "name": "stdout",
     "output_type": "stream",
     "text": [
      "Loss: 0.13567851580531598\n",
      "Training Accuracy: 0.9561401894949867\n"
     ]
    },
    {
     "data": {
      "text/plain": "Testing Batches:   0%|          | 0/1854 [00:00<?, ?it/s]",
      "application/vnd.jupyter.widget-view+json": {
       "version_major": 2,
       "version_minor": 0,
       "model_id": "12021f0925634e32b8e431c8640171db"
      },
      "application/json": {
       "n": 0,
       "total": 1854,
       "elapsed": 0.00897979736328125,
       "ncols": null,
       "nrows": null,
       "prefix": "Testing Batches",
       "ascii": false,
       "unit": "it",
       "unit_scale": false,
       "rate": null,
       "bar_format": null,
       "postfix": null,
       "unit_divisor": 1000,
       "initial": 0,
       "colour": null
      }
     },
     "metadata": {},
     "output_type": "display_data"
    },
    {
     "name": "stdout",
     "output_type": "stream",
     "text": [
      "Loss: 0.09994639058244867\n",
      "Testing Accuracy: 0.9682870272777099\n"
     ]
    },
    {
     "data": {
      "text/plain": "Training Batches:   0%|          | 0/850 [00:00<?, ?it/s]",
      "application/vnd.jupyter.widget-view+json": {
       "version_major": 2,
       "version_minor": 0,
       "model_id": "2367beba5eaf46de9641059ba9c294d8"
      },
      "application/json": {
       "n": 0,
       "total": 850,
       "elapsed": 0.008970022201538086,
       "ncols": null,
       "nrows": null,
       "prefix": "Training Batches",
       "ascii": false,
       "unit": "it",
       "unit_scale": false,
       "rate": null,
       "bar_format": null,
       "postfix": null,
       "unit_divisor": 1000,
       "initial": 0,
       "colour": null
      }
     },
     "metadata": {},
     "output_type": "display_data"
    },
    {
     "name": "stdout",
     "output_type": "stream",
     "text": [
      "Loss: 0.1316109522971965\n",
      "Training Accuracy: 0.9570968632140557\n"
     ]
    },
    {
     "data": {
      "text/plain": "Testing Batches:   0%|          | 0/1854 [00:00<?, ?it/s]",
      "application/vnd.jupyter.widget-view+json": {
       "version_major": 2,
       "version_minor": 0,
       "model_id": "8863073ec62442d8a1df92fd22cf6c04"
      },
      "application/json": {
       "n": 0,
       "total": 1854,
       "elapsed": 0.009966611862182617,
       "ncols": null,
       "nrows": null,
       "prefix": "Testing Batches",
       "ascii": false,
       "unit": "it",
       "unit_scale": false,
       "rate": null,
       "bar_format": null,
       "postfix": null,
       "unit_divisor": 1000,
       "initial": 0,
       "colour": null
      }
     },
     "metadata": {},
     "output_type": "display_data"
    },
    {
     "name": "stdout",
     "output_type": "stream",
     "text": [
      "Loss: 0.09921363859188108\n",
      "Testing Accuracy: 0.9685484210970108\n"
     ]
    },
    {
     "data": {
      "text/plain": "Training Batches:   0%|          | 0/850 [00:00<?, ?it/s]",
      "application/vnd.jupyter.widget-view+json": {
       "version_major": 2,
       "version_minor": 0,
       "model_id": "51e4a7759858431c9bb40fc3c91f17a7"
      },
      "application/json": {
       "n": 0,
       "total": 850,
       "elapsed": 0.008970260620117188,
       "ncols": null,
       "nrows": null,
       "prefix": "Training Batches",
       "ascii": false,
       "unit": "it",
       "unit_scale": false,
       "rate": null,
       "bar_format": null,
       "postfix": null,
       "unit_divisor": 1000,
       "initial": 0,
       "colour": null
      }
     },
     "metadata": {},
     "output_type": "display_data"
    },
    {
     "name": "stdout",
     "output_type": "stream",
     "text": [
      "Loss: 0.13109728924674127\n",
      "Training Accuracy: 0.9575384049305492\n"
     ]
    },
    {
     "data": {
      "text/plain": "Testing Batches:   0%|          | 0/1854 [00:00<?, ?it/s]",
      "application/vnd.jupyter.widget-view+json": {
       "version_major": 2,
       "version_minor": 0,
       "model_id": "3004c63440194ad582ff09bf17ffaebc"
      },
      "application/json": {
       "n": 0,
       "total": 1854,
       "elapsed": 0.009966850280761719,
       "ncols": null,
       "nrows": null,
       "prefix": "Testing Batches",
       "ascii": false,
       "unit": "it",
       "unit_scale": false,
       "rate": null,
       "bar_format": null,
       "postfix": null,
       "unit_divisor": 1000,
       "initial": 0,
       "colour": null
      }
     },
     "metadata": {},
     "output_type": "display_data"
    },
    {
     "name": "stdout",
     "output_type": "stream",
     "text": [
      "Loss: 0.09832656204774658\n",
      "Testing Accuracy: 0.9687845187402504\n"
     ]
    },
    {
     "data": {
      "text/plain": "Training Batches:   0%|          | 0/850 [00:00<?, ?it/s]",
      "application/vnd.jupyter.widget-view+json": {
       "version_major": 2,
       "version_minor": 0,
       "model_id": "7ebd5c87f337421d9a1735901346d518"
      },
      "application/json": {
       "n": 0,
       "total": 850,
       "elapsed": 0.009005069732666016,
       "ncols": null,
       "nrows": null,
       "prefix": "Training Batches",
       "ascii": false,
       "unit": "it",
       "unit_scale": false,
       "rate": null,
       "bar_format": null,
       "postfix": null,
       "unit_divisor": 1000,
       "initial": 0,
       "colour": null
      }
     },
     "metadata": {},
     "output_type": "display_data"
    },
    {
     "name": "stdout",
     "output_type": "stream",
     "text": [
      "Loss: 0.12984123769436365\n",
      "Training Accuracy: 0.9575935976451109\n"
     ]
    },
    {
     "data": {
      "text/plain": "Testing Batches:   0%|          | 0/1854 [00:00<?, ?it/s]",
      "application/vnd.jupyter.widget-view+json": {
       "version_major": 2,
       "version_minor": 0,
       "model_id": "d2d110adbcc44ea286ee7f49335dfb6a"
      },
      "application/json": {
       "n": 0,
       "total": 1854,
       "elapsed": 0.008970022201538086,
       "ncols": null,
       "nrows": null,
       "prefix": "Testing Batches",
       "ascii": false,
       "unit": "it",
       "unit_scale": false,
       "rate": null,
       "bar_format": null,
       "postfix": null,
       "unit_divisor": 1000,
       "initial": 0,
       "colour": null
      }
     },
     "metadata": {},
     "output_type": "display_data"
    },
    {
     "name": "stdout",
     "output_type": "stream",
     "text": [
      "Loss: 0.09753154715065107\n",
      "Testing Accuracy: 0.9689868881487416\n"
     ]
    },
    {
     "data": {
      "text/plain": "Training Batches:   0%|          | 0/850 [00:00<?, ?it/s]",
      "application/vnd.jupyter.widget-view+json": {
       "version_major": 2,
       "version_minor": 0,
       "model_id": "abbf912558794a3dbbbf4ce7e634925c"
      },
      "application/json": {
       "n": 0,
       "total": 850,
       "elapsed": 0.01195979118347168,
       "ncols": null,
       "nrows": null,
       "prefix": "Training Batches",
       "ascii": false,
       "unit": "it",
       "unit_scale": false,
       "rate": null,
       "bar_format": null,
       "postfix": null,
       "unit_divisor": 1000,
       "initial": 0,
       "colour": null
      }
     },
     "metadata": {},
     "output_type": "display_data"
    },
    {
     "name": "stdout",
     "output_type": "stream",
     "text": [
      "Loss: 0.1269812694594574\n",
      "Training Accuracy: 0.9583846932204949\n"
     ]
    },
    {
     "data": {
      "text/plain": "Testing Batches:   0%|          | 0/1854 [00:00<?, ?it/s]",
      "application/vnd.jupyter.widget-view+json": {
       "version_major": 2,
       "version_minor": 0,
       "model_id": "efa37575e3c64f5b86636f934d199579"
      },
      "application/json": {
       "n": 0,
       "total": 1854,
       "elapsed": 0.008946895599365234,
       "ncols": null,
       "nrows": null,
       "prefix": "Testing Batches",
       "ascii": false,
       "unit": "it",
       "unit_scale": false,
       "rate": null,
       "bar_format": null,
       "postfix": null,
       "unit_divisor": 1000,
       "initial": 0,
       "colour": null
      }
     },
     "metadata": {},
     "output_type": "display_data"
    },
    {
     "name": "stdout",
     "output_type": "stream",
     "text": [
      "Loss: 0.09682859539170671\n",
      "Testing Accuracy: 0.9691808254985455\n"
     ]
    },
    {
     "data": {
      "text/plain": "Training Batches:   0%|          | 0/850 [00:00<?, ?it/s]",
      "application/vnd.jupyter.widget-view+json": {
       "version_major": 2,
       "version_minor": 0,
       "model_id": "d1fe8a71e93043e0b5393e34412ba885"
      },
      "application/json": {
       "n": 0,
       "total": 850,
       "elapsed": 0.008007287979125977,
       "ncols": null,
       "nrows": null,
       "prefix": "Training Batches",
       "ascii": false,
       "unit": "it",
       "unit_scale": false,
       "rate": null,
       "bar_format": null,
       "postfix": null,
       "unit_divisor": 1000,
       "initial": 0,
       "colour": null
      }
     },
     "metadata": {},
     "output_type": "display_data"
    },
    {
     "name": "stdout",
     "output_type": "stream",
     "text": [
      "Loss: 0.1240122434866323\n",
      "Training Accuracy: 0.9598381013706191\n"
     ]
    },
    {
     "data": {
      "text/plain": "Testing Batches:   0%|          | 0/1854 [00:00<?, ?it/s]",
      "application/vnd.jupyter.widget-view+json": {
       "version_major": 2,
       "version_minor": 0,
       "model_id": "d281f7599f574417b5a14c1e9ad6d0d0"
      },
      "application/json": {
       "n": 0,
       "total": 1854,
       "elapsed": 0.009964942932128906,
       "ncols": null,
       "nrows": null,
       "prefix": "Testing Batches",
       "ascii": false,
       "unit": "it",
       "unit_scale": false,
       "rate": null,
       "bar_format": null,
       "postfix": null,
       "unit_divisor": 1000,
       "initial": 0,
       "colour": null
      }
     },
     "metadata": {},
     "output_type": "display_data"
    },
    {
     "name": "stdout",
     "output_type": "stream",
     "text": [
      "Loss: 0.09611541325866828\n",
      "Testing Accuracy: 0.9693831949070365\n"
     ]
    },
    {
     "data": {
      "text/plain": "Training Batches:   0%|          | 0/850 [00:00<?, ?it/s]",
      "application/vnd.jupyter.widget-view+json": {
       "version_major": 2,
       "version_minor": 0,
       "model_id": "5de67263ee354f5a80925efe998d910d"
      },
      "application/json": {
       "n": 0,
       "total": 850,
       "elapsed": 0.008962392807006836,
       "ncols": null,
       "nrows": null,
       "prefix": "Training Batches",
       "ascii": false,
       "unit": "it",
       "unit_scale": false,
       "rate": null,
       "bar_format": null,
       "postfix": null,
       "unit_divisor": 1000,
       "initial": 0,
       "colour": null
      }
     },
     "metadata": {},
     "output_type": "display_data"
    },
    {
     "name": "stdout",
     "output_type": "stream",
     "text": [
      "Loss: 0.12343996105322798\n",
      "Training Accuracy: 0.9602428479440713\n"
     ]
    },
    {
     "data": {
      "text/plain": "Testing Batches:   0%|          | 0/1854 [00:00<?, ?it/s]",
      "application/vnd.jupyter.widget-view+json": {
       "version_major": 2,
       "version_minor": 0,
       "model_id": "ca044974a000409d8778f6171d12730a"
      },
      "application/json": {
       "n": 0,
       "total": 1854,
       "elapsed": 0.007973194122314453,
       "ncols": null,
       "nrows": null,
       "prefix": "Testing Batches",
       "ascii": false,
       "unit": "it",
       "unit_scale": false,
       "rate": null,
       "bar_format": null,
       "postfix": null,
       "unit_divisor": 1000,
       "initial": 0,
       "colour": null
      }
     },
     "metadata": {},
     "output_type": "display_data"
    },
    {
     "name": "stdout",
     "output_type": "stream",
     "text": [
      "Loss: 0.09542753239127229\n",
      "Testing Accuracy: 0.9695771322568405\n"
     ]
    },
    {
     "data": {
      "text/plain": "Training Batches:   0%|          | 0/850 [00:00<?, ?it/s]",
      "application/vnd.jupyter.widget-view+json": {
       "version_major": 2,
       "version_minor": 0,
       "model_id": "962e1537dc6e480a9307623bdc08e8d4"
      },
      "application/json": {
       "n": 0,
       "total": 850,
       "elapsed": 0.008945703506469727,
       "ncols": null,
       "nrows": null,
       "prefix": "Training Batches",
       "ascii": false,
       "unit": "it",
       "unit_scale": false,
       "rate": null,
       "bar_format": null,
       "postfix": null,
       "unit_divisor": 1000,
       "initial": 0,
       "colour": null
      }
     },
     "metadata": {},
     "output_type": "display_data"
    },
    {
     "name": "stdout",
     "output_type": "stream",
     "text": [
      "Loss: 0.12097416938252883\n",
      "Training Accuracy: 0.9603532333731948\n"
     ]
    },
    {
     "data": {
      "text/plain": "Testing Batches:   0%|          | 0/1854 [00:00<?, ?it/s]",
      "application/vnd.jupyter.widget-view+json": {
       "version_major": 2,
       "version_minor": 0,
       "model_id": "6820ee5d8b264a82a7807d2dc21d72cc"
      },
      "application/json": {
       "n": 0,
       "total": 1854,
       "elapsed": 0.009926557540893555,
       "ncols": null,
       "nrows": null,
       "prefix": "Testing Batches",
       "ascii": false,
       "unit": "it",
       "unit_scale": false,
       "rate": null,
       "bar_format": null,
       "postfix": null,
       "unit_divisor": 1000,
       "initial": 0,
       "colour": null
      }
     },
     "metadata": {},
     "output_type": "display_data"
    },
    {
     "name": "stdout",
     "output_type": "stream",
     "text": [
      "Loss: 0.09471067030429975\n",
      "Testing Accuracy: 0.9697963657827059\n"
     ]
    },
    {
     "data": {
      "text/plain": "Training Batches:   0%|          | 0/850 [00:00<?, ?it/s]",
      "application/vnd.jupyter.widget-view+json": {
       "version_major": 2,
       "version_minor": 0,
       "model_id": "43d230f75b324033978437636dac8d90"
      },
      "application/json": {
       "n": 0,
       "total": 850,
       "elapsed": 0.009966850280761719,
       "ncols": null,
       "nrows": null,
       "prefix": "Training Batches",
       "ascii": false,
       "unit": "it",
       "unit_scale": false,
       "rate": null,
       "bar_format": null,
       "postfix": null,
       "unit_divisor": 1000,
       "initial": 0,
       "colour": null
      }
     },
     "metadata": {},
     "output_type": "display_data"
    },
    {
     "name": "stdout",
     "output_type": "stream",
     "text": [
      "Loss: 0.11771892526412384\n",
      "Training Accuracy: 0.9609419556618526\n"
     ]
    },
    {
     "data": {
      "text/plain": "Testing Batches:   0%|          | 0/1854 [00:00<?, ?it/s]",
      "application/vnd.jupyter.widget-view+json": {
       "version_major": 2,
       "version_minor": 0,
       "model_id": "0d6b2010625840ec8739795ea7c3a372"
      },
      "application/json": {
       "n": 0,
       "total": 1854,
       "elapsed": 0.007973194122314453,
       "ncols": null,
       "nrows": null,
       "prefix": "Testing Batches",
       "ascii": false,
       "unit": "it",
       "unit_scale": false,
       "rate": null,
       "bar_format": null,
       "postfix": null,
       "unit_divisor": 1000,
       "initial": 0,
       "colour": null
      }
     },
     "metadata": {},
     "output_type": "display_data"
    },
    {
     "name": "stdout",
     "output_type": "stream",
     "text": [
      "Loss: 0.0940076888422317\n",
      "Testing Accuracy: 0.9699228466630128\n"
     ]
    },
    {
     "data": {
      "text/plain": "Training Batches:   0%|          | 0/850 [00:00<?, ?it/s]",
      "application/vnd.jupyter.widget-view+json": {
       "version_major": 2,
       "version_minor": 0,
       "model_id": "f3272d25bbed4955951e6ac31588b51c"
      },
      "application/json": {
       "n": 0,
       "total": 850,
       "elapsed": 0.00993800163269043,
       "ncols": null,
       "nrows": null,
       "prefix": "Training Batches",
       "ascii": false,
       "unit": "it",
       "unit_scale": false,
       "rate": null,
       "bar_format": null,
       "postfix": null,
       "unit_divisor": 1000,
       "initial": 0,
       "colour": null
      }
     },
     "metadata": {},
     "output_type": "display_data"
    },
    {
     "name": "stdout",
     "output_type": "stream",
     "text": [
      "Loss: 0.11707656010636543\n",
      "Training Accuracy: 0.9608315702327292\n"
     ]
    },
    {
     "data": {
      "text/plain": "Testing Batches:   0%|          | 0/1854 [00:00<?, ?it/s]",
      "application/vnd.jupyter.widget-view+json": {
       "version_major": 2,
       "version_minor": 0,
       "model_id": "ac5cf6422d3a4d248c3f1b4a36df5b76"
      },
      "application/json": {
       "n": 0,
       "total": 1854,
       "elapsed": 0.011953353881835938,
       "ncols": null,
       "nrows": null,
       "prefix": "Testing Batches",
       "ascii": false,
       "unit": "it",
       "unit_scale": false,
       "rate": null,
       "bar_format": null,
       "postfix": null,
       "unit_divisor": 1000,
       "initial": 0,
       "colour": null
      }
     },
     "metadata": {},
     "output_type": "display_data"
    },
    {
     "name": "stdout",
     "output_type": "stream",
     "text": [
      "Loss: 0.09329396422249604\n",
      "Testing Accuracy: 0.9701505122475652\n"
     ]
    },
    {
     "data": {
      "text/plain": "Training Batches:   0%|          | 0/850 [00:00<?, ?it/s]",
      "application/vnd.jupyter.widget-view+json": {
       "version_major": 2,
       "version_minor": 0,
       "model_id": "d18a588c786f4ec9beb6aaf0db9d916a"
      },
      "application/json": {
       "n": 0,
       "total": 850,
       "elapsed": 0.007973194122314453,
       "ncols": null,
       "nrows": null,
       "prefix": "Training Batches",
       "ascii": false,
       "unit": "it",
       "unit_scale": false,
       "rate": null,
       "bar_format": null,
       "postfix": null,
       "unit_divisor": 1000,
       "initial": 0,
       "colour": null
      }
     },
     "metadata": {},
     "output_type": "display_data"
    },
    {
     "name": "stdout",
     "output_type": "stream",
     "text": [
      "Loss: 0.11563227970431292\n",
      "Training Accuracy: 0.9621010026676479\n"
     ]
    },
    {
     "data": {
      "text/plain": "Testing Batches:   0%|          | 0/1854 [00:00<?, ?it/s]",
      "application/vnd.jupyter.widget-view+json": {
       "version_major": 2,
       "version_minor": 0,
       "model_id": "5ed2612aca3a4df8b5b1570f1bdd909d"
      },
      "application/json": {
       "n": 0,
       "total": 1854,
       "elapsed": 0.007942676544189453,
       "ncols": null,
       "nrows": null,
       "prefix": "Testing Batches",
       "ascii": false,
       "unit": "it",
       "unit_scale": false,
       "rate": null,
       "bar_format": null,
       "postfix": null,
       "unit_divisor": 1000,
       "initial": 0,
       "colour": null
      }
     },
     "metadata": {},
     "output_type": "display_data"
    },
    {
     "name": "stdout",
     "output_type": "stream",
     "text": [
      "Loss: 0.09262955555213027\n",
      "Testing Accuracy: 0.9703528816560564\n"
     ]
    },
    {
     "data": {
      "text/plain": "Training Batches:   0%|          | 0/850 [00:00<?, ?it/s]",
      "application/vnd.jupyter.widget-view+json": {
       "version_major": 2,
       "version_minor": 0,
       "model_id": "831b2648ca9546dc99ddad3d6c364a92"
      },
      "application/json": {
       "n": 0,
       "total": 850,
       "elapsed": 0.007972478866577148,
       "ncols": null,
       "nrows": null,
       "prefix": "Training Batches",
       "ascii": false,
       "unit": "it",
       "unit_scale": false,
       "rate": null,
       "bar_format": null,
       "postfix": null,
       "unit_divisor": 1000,
       "initial": 0,
       "colour": null
      }
     },
     "metadata": {},
     "output_type": "display_data"
    },
    {
     "name": "stdout",
     "output_type": "stream",
     "text": [
      "Loss: 0.11425255880773354\n",
      "Training Accuracy: 0.9625793395271824\n"
     ]
    },
    {
     "data": {
      "text/plain": "Testing Batches:   0%|          | 0/1854 [00:00<?, ?it/s]",
      "application/vnd.jupyter.widget-view+json": {
       "version_major": 2,
       "version_minor": 0,
       "model_id": "0bb5ec5098f5497b898628445d286c59"
      },
      "application/json": {
       "n": 0,
       "total": 1854,
       "elapsed": 0.007972478866577148,
       "ncols": null,
       "nrows": null,
       "prefix": "Testing Batches",
       "ascii": false,
       "unit": "it",
       "unit_scale": false,
       "rate": null,
       "bar_format": null,
       "postfix": null,
       "unit_divisor": 1000,
       "initial": 0,
       "colour": null
      }
     },
     "metadata": {},
     "output_type": "display_data"
    },
    {
     "name": "stdout",
     "output_type": "stream",
     "text": [
      "Loss: 0.09191550715099554\n",
      "Testing Accuracy: 0.9704709304776761\n"
     ]
    },
    {
     "data": {
      "text/plain": "Training Batches:   0%|          | 0/850 [00:00<?, ?it/s]",
      "application/vnd.jupyter.widget-view+json": {
       "version_major": 2,
       "version_minor": 0,
       "model_id": "7fc50fbb11ce426c804c3e75aaa75ad9"
      },
      "application/json": {
       "n": 0,
       "total": 850,
       "elapsed": 0.011959552764892578,
       "ncols": null,
       "nrows": null,
       "prefix": "Training Batches",
       "ascii": false,
       "unit": "it",
       "unit_scale": false,
       "rate": null,
       "bar_format": null,
       "postfix": null,
       "unit_divisor": 1000,
       "initial": 0,
       "colour": null
      }
     },
     "metadata": {},
     "output_type": "display_data"
    },
    {
     "name": "stdout",
     "output_type": "stream",
     "text": [
      "Loss: 0.11138837030607165\n",
      "Training Accuracy: 0.9630576763867169\n"
     ]
    },
    {
     "data": {
      "text/plain": "Testing Batches:   0%|          | 0/1854 [00:00<?, ?it/s]",
      "application/vnd.jupyter.widget-view+json": {
       "version_major": 2,
       "version_minor": 0,
       "model_id": "8642370bc40a4298a152ac9107866181"
      },
      "application/json": {
       "n": 0,
       "total": 1854,
       "elapsed": 0.00992894172668457,
       "ncols": null,
       "nrows": null,
       "prefix": "Testing Batches",
       "ascii": false,
       "unit": "it",
       "unit_scale": false,
       "rate": null,
       "bar_format": null,
       "postfix": null,
       "unit_divisor": 1000,
       "initial": 0,
       "colour": null
      }
     },
     "metadata": {},
     "output_type": "display_data"
    },
    {
     "name": "stdout",
     "output_type": "stream",
     "text": [
      "Loss: 0.09126360291149778\n",
      "Testing Accuracy: 0.9706058434166702\n"
     ]
    },
    {
     "data": {
      "text/plain": "Training Batches:   0%|          | 0/850 [00:00<?, ?it/s]",
      "application/vnd.jupyter.widget-view+json": {
       "version_major": 2,
       "version_minor": 0,
       "model_id": "96803716335e4a7081a476638cff157c"
      },
      "application/json": {
       "n": 0,
       "total": 850,
       "elapsed": 0.008006095886230469,
       "ncols": null,
       "nrows": null,
       "prefix": "Training Batches",
       "ascii": false,
       "unit": "it",
       "unit_scale": false,
       "rate": null,
       "bar_format": null,
       "postfix": null,
       "unit_divisor": 1000,
       "initial": 0,
       "colour": null
      }
     },
     "metadata": {},
     "output_type": "display_data"
    },
    {
     "name": "stdout",
     "output_type": "stream",
     "text": [
      "Loss: 0.11006511350835192\n",
      "Training Accuracy: 0.9637935792475393\n"
     ]
    },
    {
     "data": {
      "text/plain": "Testing Batches:   0%|          | 0/1854 [00:00<?, ?it/s]",
      "application/vnd.jupyter.widget-view+json": {
       "version_major": 2,
       "version_minor": 0,
       "model_id": "8149067f36db43a6a7260818d72f6e7c"
      },
      "application/json": {
       "n": 0,
       "total": 1854,
       "elapsed": 0.00800466537475586,
       "ncols": null,
       "nrows": null,
       "prefix": "Testing Batches",
       "ascii": false,
       "unit": "it",
       "unit_scale": false,
       "rate": null,
       "bar_format": null,
       "postfix": null,
       "unit_divisor": 1000,
       "initial": 0,
       "colour": null
      }
     },
     "metadata": {},
     "output_type": "display_data"
    },
    {
     "name": "stdout",
     "output_type": "stream",
     "text": [
      "Loss: 0.09068821460491715\n",
      "Testing Accuracy: 0.9708419410599097\n"
     ]
    },
    {
     "data": {
      "text/plain": "Training Batches:   0%|          | 0/850 [00:00<?, ?it/s]",
      "application/vnd.jupyter.widget-view+json": {
       "version_major": 2,
       "version_minor": 0,
       "model_id": "bec0e734a9aa4a5db41e0c7847767ff1"
      },
      "application/json": {
       "n": 0,
       "total": 850,
       "elapsed": 0.008970022201538086,
       "ncols": null,
       "nrows": null,
       "prefix": "Training Batches",
       "ascii": false,
       "unit": "it",
       "unit_scale": false,
       "rate": null,
       "bar_format": null,
       "postfix": null,
       "unit_divisor": 1000,
       "initial": 0,
       "colour": null
      }
     },
     "metadata": {},
     "output_type": "display_data"
    },
    {
     "name": "stdout",
     "output_type": "stream",
     "text": [
      "Loss: 0.1076560919599322\n",
      "Training Accuracy: 0.9642719161070739\n"
     ]
    },
    {
     "data": {
      "text/plain": "Testing Batches:   0%|          | 0/1854 [00:00<?, ?it/s]",
      "application/vnd.jupyter.widget-view+json": {
       "version_major": 2,
       "version_minor": 0,
       "model_id": "54b30ff4740245cc8aad1917f0f9d20e"
      },
      "application/json": {
       "n": 0,
       "total": 1854,
       "elapsed": 0.00996708869934082,
       "ncols": null,
       "nrows": null,
       "prefix": "Testing Batches",
       "ascii": false,
       "unit": "it",
       "unit_scale": false,
       "rate": null,
       "bar_format": null,
       "postfix": null,
       "unit_divisor": 1000,
       "initial": 0,
       "colour": null
      }
     },
     "metadata": {},
     "output_type": "display_data"
    },
    {
     "name": "stdout",
     "output_type": "stream",
     "text": [
      "Loss: 0.08995732946504546\n",
      "Testing Accuracy: 0.9710021501749653\n"
     ]
    }
   ],
   "source": [
    "model = CNN().to(device)\n",
    "loss_value, accuracy = train_and_evaluate(50, model, train_dataloader, test_dataloader, min_loss=0.02)"
   ],
   "metadata": {
    "collapsed": false
   }
  },
  {
   "cell_type": "code",
   "execution_count": 47,
   "outputs": [],
   "source": [
    "# save the training model\n",
    "import os\n",
    "path = os.getcwd()+\"/cnn.pth\"\n",
    "model.save_model(path)"
   ],
   "metadata": {
    "collapsed": false
   }
  },
  {
   "cell_type": "code",
   "execution_count": 52,
   "outputs": [
    {
     "name": "stdout",
     "output_type": "stream",
     "text": [
      "CNN(\n",
      "  (conv1): Sequential(\n",
      "    (0): Conv2d(1, 16, kernel_size=(3, 3), stride=(1, 1), padding=(1, 1))\n",
      "    (1): Conv2d(16, 32, kernel_size=(3, 3), stride=(1, 1), padding=(1, 1))\n",
      "    (2): BatchNorm2d(32, eps=1e-05, momentum=0.1, affine=True, track_running_stats=True)\n",
      "    (3): ReLU()\n",
      "    (4): MaxPool2d(kernel_size=2, stride=2, padding=0, dilation=1, ceil_mode=False)\n",
      "    (5): Dropout(p=0.2, inplace=False)\n",
      "  )\n",
      "  (conv2): Sequential(\n",
      "    (0): Conv2d(32, 64, kernel_size=(3, 3), stride=(1, 1), padding=(1, 1))\n",
      "    (1): Conv2d(64, 128, kernel_size=(3, 3), stride=(1, 1), padding=(1, 1))\n",
      "    (2): BatchNorm2d(128, eps=1e-05, momentum=0.1, affine=True, track_running_stats=True)\n",
      "    (3): ReLU()\n",
      "    (4): MaxPool2d(kernel_size=2, stride=2, padding=0, dilation=1, ceil_mode=False)\n",
      "    (5): Dropout(p=0.4, inplace=False)\n",
      "  )\n",
      "  (conv3): Sequential(\n",
      "    (0): Conv2d(128, 256, kernel_size=(3, 3), stride=(1, 1), padding=(1, 1))\n",
      "    (1): Conv2d(256, 256, kernel_size=(3, 3), stride=(1, 1), padding=(1, 1))\n",
      "    (2): BatchNorm2d(256, eps=1e-05, momentum=0.1, affine=True, track_running_stats=True)\n",
      "    (3): ReLU()\n",
      "    (4): MaxPool2d(kernel_size=2, stride=2, padding=0, dilation=1, ceil_mode=False)\n",
      "    (5): Dropout(p=0.6, inplace=False)\n",
      "  )\n",
      "  (fc1): Linear(in_features=16384, out_features=256, bias=True)\n",
      "  (fc2): Linear(in_features=256, out_features=64, bias=True)\n",
      "  (fc3): Linear(in_features=64, out_features=9, bias=True)\n",
      "  (relu): ReLU()\n",
      "  (softmax): LogSoftmax(dim=1)\n",
      "  (loss): CrossEntropyLoss()\n",
      ")\n"
     ]
    }
   ],
   "source": [
    "print(model)"
   ],
   "metadata": {
    "collapsed": false,
    "pycharm": {
     "name": "#%%\n"
    }
   }
  },
  {
   "cell_type": "code",
   "execution_count": 58,
   "outputs": [
    {
     "data": {
      "text/plain": "<Figure size 864x432 with 1 Axes>",
      "image/png": "[encoded data removed]"
     },
     "metadata": {},
     "output_type": "display_data"
    },
    {
     "data": {
      "text/plain": "<Figure size 864x432 with 1 Axes>",
      "image/png": "[encoded data removed]"
     },
     "metadata": {},
     "output_type": "display_data"
    }
   ],
   "source": [
    "#plot the training and testing loss and accuracy\n",
    "import matplotlib.pyplot as plt\n",
    "train_loss = loss_value[0]\n",
    "test_loss = loss_value[1]\n",
    "train_accuracy = accuracy[0]\n",
    "test_accuracy = accuracy[1]\n",
    "\n",
    "fig, ax = plt.subplots(figsize=(12, 6))\n",
    "\n",
    "ax.plot(train_loss, label=\"Training Loss\")\n",
    "ax.plot(test_loss, label=\"Testing Loss\")\n",
    "ax.legend()\n",
    "ax.set_xlabel(\"Epoch#\", fontsize=20)\n",
    "ax.set_ylabel(\"Loss Value\", fontsize=20)\n",
    "ax.set_title(\"Training and Testing Loss\", fontsize=20)\n",
    "plt.show()\n",
    "\n",
    "fig, ax = plt.subplots(figsize=(12, 6))\n",
    "ax.plot(train_accuracy, label=\"Training Accuracy\")\n",
    "ax.plot(test_accuracy, label=\"Testing Accuracy\")\n",
    "ax.set_xlabel(\"Epoch#\", fontsize=20)\n",
    "ax.set_ylabel(\"Accuracy\", fontsize=20)\n",
    "ax.set_title(\"Training and Testing Accuracy\", fontsize=20)\n",
    "ax.legend()\n",
    "plt.show()"
   ],
   "metadata": {
    "collapsed": false
   }
  },
  {
   "cell_type": "code",
   "execution_count": 49,
   "outputs": [],
   "source": [
    "failure_type = {'Center':0,'Donut':1,'Edge-Loc':2,'Edge-Ring':3,'Loc':4,'Random':5,'Scratch':6,'Near-full':7,'none':8}\n",
    "failure_list = [\"Center\",\"Donut\",\"Edge-Loc\",\"Edge-Ring\",\"Loc\",\"Random\",\"Scratch\",\"Near-full\",\"None\"]"
   ],
   "metadata": {
    "collapsed": false
   }
  },
  {
   "cell_type": "code",
   "execution_count": 61,
   "outputs": [
    {
     "data": {
      "text/plain": "Testing Batches:   0%|          | 0/1854 [00:00<?, ?it/s]",
      "application/vnd.jupyter.widget-view+json": {
       "version_major": 2,
       "version_minor": 0,
       "model_id": "3e80a573bf074d83b3b4473e3e9de4a0"
      },
      "application/json": {
       "n": 0,
       "total": 1854,
       "elapsed": 0.009966611862182617,
       "ncols": null,
       "nrows": null,
       "prefix": "Testing Batches",
       "ascii": false,
       "unit": "it",
       "unit_scale": false,
       "rate": null,
       "bar_format": null,
       "postfix": null,
       "unit_divisor": 1000,
       "initial": 0,
       "colour": null
      }
     },
     "metadata": {},
     "output_type": "display_data"
    }
   ],
   "source": [
    "prediction = []\n",
    "true = []\n",
    "for images,labels in tqdm(test_dataloader, leave=False, desc=\"Testing Batches\"):\n",
    "    images, labels = images.to(device), labels.to(device)\n",
    "    output = model.forward(images)\n",
    "    _, predicted = torch.max(output.data, 1)\n",
    "    for i in range(labels.shape[0]):\n",
    "        prediction.append(predicted[i].item())\n",
    "        true.append(labels[i].item())"
   ],
   "metadata": {
    "collapsed": false
   }
  },
  {
   "cell_type": "code",
   "execution_count": 67,
   "outputs": [
    {
     "name": "stdout",
     "output_type": "stream",
     "text": [
      "114549\n",
      "118595\n",
      "0.9658838905518783\n"
     ]
    }
   ],
   "source": [
    "count = 0\n",
    "for i in range(len(true)):\n",
    "    if true[i] == prediction[i]:\n",
    "        count += 1\n",
    "print(count)\n",
    "print(len(true))\n",
    "print(count/len(true))"
   ],
   "metadata": {
    "collapsed": false,
    "pycharm": {
     "name": "#%%\n"
    }
   }
  },
  {
   "cell_type": "code",
   "execution_count": 68,
   "outputs": [
    {
     "data": {
      "text/plain": "<Figure size 792x576 with 2 Axes>",
      "image/png": "[encoded data removed]"
     },
     "metadata": {},
     "output_type": "display_data"
    }
   ],
   "source": [
    "from sklearn.metrics import confusion_matrix\n",
    "import seaborn as sns\n",
    "\n",
    "cf_matrix = confusion_matrix(true, prediction)\n",
    "cmn = cf_matrix.astype('float') / cf_matrix.sum(axis=1)[:, np.newaxis]\n",
    "#print(cf_matrix)\n",
    "sns.set(rc = {'figure.figsize':(11,8)})\n",
    "ax = sns.heatmap(cmn,annot=True, fmt='.2f',xticklabels=failure_list,yticklabels=failure_list,cmap=\"Blues\")\n",
    "ax.xaxis.tick_top()\n",
    "ax.xaxis.set_label_position('top')\n",
    "plt.xlabel(\"Predicted label\")\n",
    "plt.ylabel(\"True label\")\n",
    "plt.show()"
   ],
   "metadata": {
    "collapsed": false
   }
  },
  {
   "cell_type": "code",
   "execution_count": 51,
   "outputs": [],
   "source": [],
   "metadata": {
    "collapsed": false
   }
  }
 ],
 "metadata": {
  "kernelspec": {
   "display_name": "Python 3",
   "language": "python",
   "name": "python3"
  },
  "language_info": {
   "codemirror_mode": {
    "name": "ipython",
    "version": 2
   },
   "file_extension": ".py",
   "mimetype": "text/x-python",
   "name": "python",
   "nbconvert_exporter": "python",
   "pygments_lexer": "ipython2",
   "version": "2.7.6"
  }
 },
 "nbformat": 4,
 "nbformat_minor": 0
}