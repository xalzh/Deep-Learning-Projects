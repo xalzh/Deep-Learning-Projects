{
 "cells": [
  {
   "cell_type": "code",
   "execution_count": 6,
   "metadata": {
    "collapsed": true
   },
   "outputs": [],
   "source": [
    "import pandas as pd\n",
    "import numpy as np\n",
    "import torch\n",
    "from PIL import Image\n",
    "import cv2\n",
    "import torch.nn as nn\n",
    "import torch.optim as optim\n",
    "from tqdm.notebook import tqdm, trange\n",
    "from torch.utils.data import TensorDataset, DataLoader"
   ]
  },
  {
   "cell_type": "code",
   "execution_count": 7,
   "outputs": [
    {
     "name": "stdout",
     "output_type": "stream",
     "text": [
      "                                                 waferMap  dieSize   lotName  \\\n",
      "0       [[0, 0, 0, 0, 0, 0, 0, 0, 0, 0, 0, 0, 0, 0, 0,...   1683.0      lot1   \n",
      "1       [[0, 0, 0, 0, 0, 0, 0, 0, 0, 0, 0, 0, 0, 0, 0,...   1683.0      lot1   \n",
      "2       [[0, 0, 0, 0, 0, 0, 0, 0, 0, 0, 0, 0, 0, 0, 0,...   1683.0      lot1   \n",
      "3       [[0, 0, 0, 0, 0, 0, 0, 0, 0, 0, 0, 0, 0, 0, 0,...   1683.0      lot1   \n",
      "4       [[0, 0, 0, 0, 0, 0, 0, 0, 0, 0, 0, 0, 0, 0, 0,...   1683.0      lot1   \n",
      "...                                                   ...      ...       ...   \n",
      "811452  [[0, 0, 0, 0, 0, 0, 0, 0, 0, 0, 0, 1, 2, 1, 1,...    600.0  lot47542   \n",
      "811453  [[0, 0, 0, 0, 0, 0, 0, 0, 0, 0, 0, 2, 2, 1, 1,...    600.0  lot47542   \n",
      "811454  [[0, 0, 0, 0, 0, 0, 0, 0, 0, 0, 0, 1, 2, 1, 1,...    600.0  lot47542   \n",
      "811455  [[0, 0, 0, 0, 0, 0, 0, 0, 0, 0, 0, 1, 1, 1, 1,...    600.0  lot47543   \n",
      "811456  [[0, 0, 0, 0, 0, 0, 0, 0, 0, 0, 0, 1, 2, 1, 1,...    600.0  lot47543   \n",
      "\n",
      "        waferIndex trianTestLabel    failureType  \n",
      "0              1.0   [[Training]]       [[none]]  \n",
      "1              2.0   [[Training]]       [[none]]  \n",
      "2              3.0   [[Training]]       [[none]]  \n",
      "3              4.0   [[Training]]       [[none]]  \n",
      "4              5.0   [[Training]]       [[none]]  \n",
      "...            ...            ...            ...  \n",
      "811452        23.0       [[Test]]  [[Edge-Ring]]  \n",
      "811453        24.0       [[Test]]   [[Edge-Loc]]  \n",
      "811454        25.0       [[Test]]  [[Edge-Ring]]  \n",
      "811455         1.0             []             []  \n",
      "811456         2.0             []             []  \n",
      "\n",
      "[811457 rows x 6 columns]\n"
     ]
    }
   ],
   "source": [
    "df = pd.read_pickle(\"LSWMD.pkl\")\n",
    "print(df)"
   ],
   "metadata": {
    "collapsed": false
   }
  },
  {
   "cell_type": "code",
   "execution_count": 8,
   "outputs": [],
   "source": [
    "#Process on the wafermap\n",
    "wafermap = np.asarray(df.waferMap)\n",
    "dim = (64, 64)\n",
    "for i in range(len(wafermap)):\n",
    "    wafermap[i] = cv2.resize(wafermap[i],dim,interpolation = cv2.INTER_AREA)\n",
    "    wafermap[i] = np.reshape(wafermap[i],(1,64,64))\n"
   ],
   "metadata": {
    "collapsed": false
   }
  },
  {
   "cell_type": "code",
   "execution_count": 9,
   "outputs": [
    {
     "name": "stderr",
     "output_type": "stream",
     "text": [
      "/Users/lizehao/miniforge3/envs/pythonProject/lib/python3.9/site-packages/pandas/core/array_algos/replace.py:86: FutureWarning: elementwise comparison failed; returning scalar instead, but in the future will perform elementwise comparison\n",
      "  op = lambda x: operator.eq(x, b)\n"
     ]
    },
    {
     "name": "stdout",
     "output_type": "stream",
     "text": [
      "[1 1 1 ... 2 array([], shape=(0, 0), dtype=float64)\n",
      " array([], shape=(0, 0), dtype=float64)]\n"
     ]
    }
   ],
   "source": [
    "#Process on the train_test_label\n",
    "label_map = {'Training':1,'Test':2}\n",
    "df=df.replace({'trianTestLabel':label_map})\n",
    "label = np.asarray(df.trianTestLabel)\n",
    "print(label)"
   ],
   "metadata": {
    "collapsed": false
   }
  },
  {
   "cell_type": "code",
   "execution_count": 10,
   "outputs": [
    {
     "name": "stdout",
     "output_type": "stream",
     "text": [
      "[8 8 8 ... 3 array([], shape=(0, 0), dtype=float64)\n",
      " array([], shape=(0, 0), dtype=float64)]\n"
     ]
    }
   ],
   "source": [
    "#Process on the failure type\n",
    "failure_type={'Center':0,'Donut':1,'Edge-Loc':2,'Edge-Ring':3,'Loc':4,'Random':5,'Scratch':6,'Near-full':7,'none':8}\n",
    "df=df.replace({'failureType':failure_type})\n",
    "failure = np.asarray(df.failureType)\n",
    "print(failure)"
   ],
   "metadata": {
    "collapsed": false
   }
  },
  {
   "cell_type": "code",
   "execution_count": 11,
   "outputs": [
    {
     "name": "stderr",
     "output_type": "stream",
     "text": [
      "/var/folders/nj/5rlf392103x7h772qpwrt6_00000gn/T/ipykernel_48502/119833979.py:7: DeprecationWarning: The truth value of an empty array is ambiguous. Returning False, but in future this will result in an error. Use `array.size > 0` to check that an array is not empty.\n",
      "  if label[i] == 1:#Training label\n",
      "/var/folders/nj/5rlf392103x7h772qpwrt6_00000gn/T/ipykernel_48502/119833979.py:10: DeprecationWarning: The truth value of an empty array is ambiguous. Returning False, but in future this will result in an error. Use `array.size > 0` to check that an array is not empty.\n",
      "  elif label[i] == 2:#Testing label\n"
     ]
    }
   ],
   "source": [
    "train_feature = []\n",
    "train_label = []\n",
    "test_feature = []\n",
    "test_label = []\n",
    "\n",
    "for i in range(len(wafermap)):\n",
    "    if label[i] == 1:#Training label\n",
    "        train_feature.append(wafermap[i])\n",
    "        train_label.append(failure[i])\n",
    "    elif label[i] == 2:#Testing label\n",
    "        test_feature.append(wafermap[i])\n",
    "        test_label.append(failure[i])\n",
    "\n",
    "train_feature = np.asarray(train_feature)\n",
    "train_label = np.asarray(train_label)\n",
    "test_feature = np.asarray(test_feature)\n",
    "test_label = np.asarray(test_label)\n",
    "train_feature = torch.tensor(train_feature)\n",
    "train_label = torch.tensor(train_label)\n",
    "test_feature = torch.tensor(test_feature)\n",
    "test_label = torch.tensor(test_label)\n",
    "\n",
    "train_feature = train_feature.type(torch.float)\n",
    "train_label = train_label.type(torch.float)\n",
    "test_feature = test_feature.type(torch.float)\n",
    "test_label = test_label.type(torch.float)\n",
    "\n",
    "\n",
    "train_dataset = TensorDataset(train_feature,train_label)\n",
    "train_dataloader = DataLoader(train_dataset, batch_size=64)\n",
    "test_dataset = TensorDataset(test_feature,test_label)\n",
    "test_dataloader = DataLoader(test_dataset, batch_size=64)"
   ],
   "metadata": {
    "collapsed": false
   }
  },
  {
   "cell_type": "code",
   "execution_count": 12,
   "outputs": [
    {
     "name": "stdout",
     "output_type": "stream",
     "text": [
      "mps\n"
     ]
    }
   ],
   "source": [
    "if torch.backends.mps.is_available():\n",
    "    device = torch.device(\"mps\")\n",
    "elif torch.cuda.is_available():\n",
    "    device = torch.device(\"cuda\")\n",
    "else:\n",
    "    device = torch.device(\"cpu\")\n",
    "print(device)"
   ],
   "metadata": {
    "collapsed": false
   }
  },
  {
   "cell_type": "code",
   "execution_count": 13,
   "outputs": [],
   "source": [
    "class CNN(nn.Module):\n",
    "    def __init__(self):\n",
    "        super(CNN, self).__init__()\n",
    "\n",
    "        self.conv1 = nn.Sequential(\n",
    "            nn.Conv2d(in_channels=1, out_channels=16, kernel_size=3, padding=1),\n",
    "            nn.Conv2d(in_channels=16, out_channels=32, kernel_size=3, padding=1),\n",
    "            nn.BatchNorm2d(num_features=32),\n",
    "            nn.ReLU(),\n",
    "            nn.MaxPool2d(2, 2),\n",
    "            nn.Dropout(0.2)\n",
    "        )\n",
    "        self.conv2 = nn.Sequential(\n",
    "            nn.Conv2d(in_channels=32, out_channels=64, kernel_size=3, padding=1),\n",
    "            nn.Conv2d(in_channels=64, out_channels=128, kernel_size=3, padding=1),\n",
    "            nn.BatchNorm2d(num_features=128),\n",
    "            nn.ReLU(),\n",
    "            nn.MaxPool2d(2, 2),\n",
    "            nn.Dropout(0.4)\n",
    "        )\n",
    "        self.conv3 = nn.Sequential(\n",
    "            nn.Conv2d(in_channels=128, out_channels=256, kernel_size=3, padding=1),\n",
    "            nn.Conv2d(in_channels=256, out_channels=256, kernel_size=3, padding=1),\n",
    "            nn.BatchNorm2d(num_features=256),\n",
    "            nn.ReLU(),\n",
    "            nn.MaxPool2d(2, 2),\n",
    "            nn.Dropout(0.6)\n",
    "        )\n",
    "\n",
    "        self.fc1 = nn.Linear(256 * 8 * 8, 256)\n",
    "        self.fc2 = nn.Linear(256, 64)\n",
    "        self.fc3 = nn.Linear(64, 9)\n",
    "        self.relu = nn.ReLU()\n",
    "        self.softmax = nn.LogSoftmax(dim=1)\n",
    "        self.loss = nn.CrossEntropyLoss()\n",
    "\n",
    "    def forward(self, input_data):\n",
    "        conv_1 = self.conv1(input_data)\n",
    "        conv_2 = self.conv2(conv_1)\n",
    "        conv_3 = self.conv3(conv_2)\n",
    "        flat = torch.flatten(conv_3, 1)\n",
    "        fully1 = self.fc1(flat)\n",
    "        fully1_relu1 = self.relu(fully1)\n",
    "        fully2 = self.fc2(fully1_relu1)\n",
    "        fully2_relu2 = self.relu(fully2)\n",
    "        fully3 = self.fc3(fully2_relu2)\n",
    "        out = self.softmax(fully3)\n",
    "        return out\n",
    "\n",
    "    def compute_Loss(self, predicted_vector, gold_label):\n",
    "        return self.loss(predicted_vector, gold_label)\n",
    "\n",
    "    def load_model(self, save_path, is_state_dict=False):\n",
    "        if not is_state_dict:\n",
    "            saved_model = torch.load(save_path)\n",
    "            self.load_state_dict(saved_model.state_dict())\n",
    "        else:\n",
    "            self.load_state_dict(torch.load(save_path))\n",
    "\n",
    "    def save_model(self, save_path, is_state_dict=False):\n",
    "        if is_state_dict:\n",
    "            torch.save(self.state_dict(), save_path)\n",
    "        else:\n",
    "            torch.save(self, save_path)\n"
   ],
   "metadata": {
    "collapsed": false
   }
  },
  {
   "cell_type": "code",
   "execution_count": 14,
   "outputs": [],
   "source": [
    "def train_epoch(model, train_loader, optimizer):\n",
    "    model.train()\n",
    "    total_loss = 0\n",
    "    batch = 0\n",
    "    correct = 0\n",
    "    total = 0\n",
    "    for images,labels in tqdm(train_loader, leave=False, desc=\"Training Batches\"):\n",
    "        optimizer.zero_grad()\n",
    "        images, labels = images.to(device), labels.to(device)\n",
    "        batch += 1\n",
    "        output = model.forward(images)\n",
    "        loss = model.compute_Loss(output,labels.long())\n",
    "        loss.backward()\n",
    "        optimizer.step()\n",
    "        total_loss += loss.item()\n",
    "        _, predicted = torch.max(output.data, 1)\n",
    "        correct += (predicted == labels).sum().item()\n",
    "        total += labels.size(0)\n",
    "\n",
    "    print(\"Loss: \" + str(total_loss/batch))\n",
    "    print(\"Training Accuracy: \" + str(correct/total))\n",
    "    return total_loss/batch, correct/total\n",
    "\n"
   ],
   "metadata": {
    "collapsed": false
   }
  },
  {
   "cell_type": "code",
   "execution_count": 15,
   "outputs": [],
   "source": [
    "def evaluation(model, test_loader, optimizer):\n",
    "    model.eval()\n",
    "    total_loss = 0\n",
    "    batch = 0\n",
    "    correct = 0\n",
    "    total = 0\n",
    "    for images,labels in tqdm(test_loader, leave=False, desc=\"Testing Batches\"):\n",
    "        images, labels = images.to(device), labels.to(device)\n",
    "        batch += 1\n",
    "        optimizer.zero_grad()\n",
    "        output = model.forward(images)\n",
    "        loss = model.compute_Loss(output,labels.long())\n",
    "        loss.backward()\n",
    "        optimizer.step()\n",
    "        total_loss += loss.item()\n",
    "        _, predict = torch.max(output.data, 1)\n",
    "        correct += (predict == labels).sum().item()\n",
    "        total += labels.size(0)\n",
    "\n",
    "    print(\"Loss: \" + str(total_loss/batch))\n",
    "    print(\"Testing Accuracy: \" + str(correct/total))\n",
    "    return total_loss/batch, correct/total\n"
   ],
   "metadata": {
    "collapsed": false
   }
  },
  {
   "cell_type": "code",
   "execution_count": 20,
   "outputs": [],
   "source": [
    "def train_and_evaluate(number_of_epochs, model, train_loader, val_loader, min_loss=0):\n",
    "    optimizer = optim.SGD(model.parameters(), lr=0.0001, momentum=0.9)\n",
    "    loss_values = [[],[]]\n",
    "    acc = [[],[]]\n",
    "    for epoch in trange(number_of_epochs, desc=\"Epochs\"):\n",
    "        cur_loss = train_epoch(model, train_loader, optimizer)\n",
    "        loss_values[0].append(cur_loss[0])\n",
    "        acc[0].append(cur_loss[1])\n",
    "        cur_loss_val = evaluation(model, val_loader, optimizer)\n",
    "        loss_values[1].append(cur_loss_val[0])\n",
    "        acc[1].append(cur_loss_val[1])\n",
    "    if cur_loss[0] <= min_loss: return loss_values\n",
    "    return loss_values, acc"
   ],
   "metadata": {
    "collapsed": false
   }
  },
  {
   "cell_type": "code",
   "execution_count": 21,
   "outputs": [
    {
     "data": {
      "text/plain": "Epochs:   0%|          | 0/10 [00:00<?, ?it/s]",
      "application/vnd.jupyter.widget-view+json": {
       "version_major": 2,
       "version_minor": 0,
       "model_id": "e0fc498730d3485191dc3ef8275e8a39"
      }
     },
     "metadata": {},
     "output_type": "display_data"
    },
    {
     "data": {
      "text/plain": "Training Batches:   0%|          | 0/850 [00:00<?, ?it/s]",
      "application/vnd.jupyter.widget-view+json": {
       "version_major": 2,
       "version_minor": 0,
       "model_id": "96fdb6d416b04e15a08de911de5ac642"
      }
     },
     "metadata": {},
     "output_type": "display_data"
    },
    {
     "name": "stdout",
     "output_type": "stream",
     "text": [
      "Loss: 0.8312551879072014\n",
      "Training Accuracy: 0.7711710054272836\n"
     ]
    },
    {
     "data": {
      "text/plain": "Testing Batches:   0%|          | 0/1854 [00:00<?, ?it/s]",
      "application/vnd.jupyter.widget-view+json": {
       "version_major": 2,
       "version_minor": 0,
       "model_id": "e376be6e3f474ef994ae96940801b8f4"
      }
     },
     "metadata": {},
     "output_type": "display_data"
    },
    {
     "name": "stdout",
     "output_type": "stream",
     "text": [
      "Loss: 0.336059740615432\n",
      "Testing Accuracy: 0.9334373287238079\n"
     ]
    },
    {
     "data": {
      "text/plain": "Training Batches:   0%|          | 0/850 [00:00<?, ?it/s]",
      "application/vnd.jupyter.widget-view+json": {
       "version_major": 2,
       "version_minor": 0,
       "model_id": "f422ab2e56fd42a3ba09d334db0e12b2"
      }
     },
     "metadata": {},
     "output_type": "display_data"
    },
    {
     "name": "stdout",
     "output_type": "stream",
     "text": [
      "Loss: 0.706566669076462\n",
      "Training Accuracy: 0.7921442369607212\n"
     ]
    },
    {
     "data": {
      "text/plain": "Testing Batches:   0%|          | 0/1854 [00:00<?, ?it/s]",
      "application/vnd.jupyter.widget-view+json": {
       "version_major": 2,
       "version_minor": 0,
       "model_id": "90adcbf530d8441e8d510b1ef713355e"
      }
     },
     "metadata": {},
     "output_type": "display_data"
    },
    {
     "name": "stdout",
     "output_type": "stream",
     "text": [
      "Loss: 0.28171148765862325\n",
      "Testing Accuracy: 0.9367342636704752\n"
     ]
    },
    {
     "data": {
      "text/plain": "Training Batches:   0%|          | 0/850 [00:00<?, ?it/s]",
      "application/vnd.jupyter.widget-view+json": {
       "version_major": 2,
       "version_minor": 0,
       "model_id": "973ef54b271343dfb88661e781e3a32a"
      }
     },
     "metadata": {},
     "output_type": "display_data"
    },
    {
     "name": "stdout",
     "output_type": "stream",
     "text": [
      "Loss: 0.5272429922853104\n",
      "Training Accuracy: 0.8408058136326005\n"
     ]
    },
    {
     "data": {
      "text/plain": "Testing Batches:   0%|          | 0/1854 [00:00<?, ?it/s]",
      "application/vnd.jupyter.widget-view+json": {
       "version_major": 2,
       "version_minor": 0,
       "model_id": "956f3f8174184cd9ae8b755e3122853c"
      }
     },
     "metadata": {},
     "output_type": "display_data"
    },
    {
     "name": "stdout",
     "output_type": "stream",
     "text": [
      "Loss: 0.24903691304870706\n",
      "Testing Accuracy: 0.9402167039082592\n"
     ]
    },
    {
     "data": {
      "text/plain": "Training Batches:   0%|          | 0/850 [00:00<?, ?it/s]",
      "application/vnd.jupyter.widget-view+json": {
       "version_major": 2,
       "version_minor": 0,
       "model_id": "cb382a5ef4614d0eb3361ade9d216dda"
      }
     },
     "metadata": {},
     "output_type": "display_data"
    },
    {
     "name": "stdout",
     "output_type": "stream",
     "text": [
      "Loss: 0.4330055878809927\n",
      "Training Accuracy: 0.8670591481924386\n"
     ]
    },
    {
     "data": {
      "text/plain": "Testing Batches:   0%|          | 0/1854 [00:00<?, ?it/s]",
      "application/vnd.jupyter.widget-view+json": {
       "version_major": 2,
       "version_minor": 0,
       "model_id": "93f0906c10c14667ba6c46506cb83dcc"
      }
     },
     "metadata": {},
     "output_type": "display_data"
    },
    {
     "name": "stdout",
     "output_type": "stream",
     "text": [
      "Loss: 0.22413856988524597\n",
      "Testing Accuracy: 0.9424680635777225\n"
     ]
    },
    {
     "data": {
      "text/plain": "Training Batches:   0%|          | 0/850 [00:00<?, ?it/s]",
      "application/vnd.jupyter.widget-view+json": {
       "version_major": 2,
       "version_minor": 0,
       "model_id": "ca3ee11abe05493d9f079013b2fca1b8"
      }
     },
     "metadata": {},
     "output_type": "display_data"
    },
    {
     "name": "stdout",
     "output_type": "stream",
     "text": [
      "Loss: 0.3720460105031345\n",
      "Training Accuracy: 0.8840952994204765\n"
     ]
    },
    {
     "data": {
      "text/plain": "Testing Batches:   0%|          | 0/1854 [00:00<?, ?it/s]",
      "application/vnd.jupyter.widget-view+json": {
       "version_major": 2,
       "version_minor": 0,
       "model_id": "d47200de6fca48dc905d6eb56d6390cf"
      }
     },
     "metadata": {},
     "output_type": "display_data"
    },
    {
     "name": "stdout",
     "output_type": "stream",
     "text": [
      "Loss: 0.20519038123563896\n",
      "Testing Accuracy: 0.9449808170664867\n"
     ]
    },
    {
     "data": {
      "text/plain": "Training Batches:   0%|          | 0/850 [00:00<?, ?it/s]",
      "application/vnd.jupyter.widget-view+json": {
       "version_major": 2,
       "version_minor": 0,
       "model_id": "8367c65f2f964f16979fb1f1ebcccb18"
      }
     },
     "metadata": {},
     "output_type": "display_data"
    },
    {
     "name": "stdout",
     "output_type": "stream",
     "text": [
      "Loss: 0.333398648618022\n",
      "Training Accuracy: 0.8950418544752092\n"
     ]
    },
    {
     "data": {
      "text/plain": "Testing Batches:   0%|          | 0/1854 [00:00<?, ?it/s]",
      "application/vnd.jupyter.widget-view+json": {
       "version_major": 2,
       "version_minor": 0,
       "model_id": "efeb8fc41d4d488f91ded05dc3112284"
      }
     },
     "metadata": {},
     "output_type": "display_data"
    },
    {
     "name": "stdout",
     "output_type": "stream",
     "text": [
      "Loss: 0.19110121282707687\n",
      "Testing Accuracy: 0.9474429782031283\n"
     ]
    },
    {
     "data": {
      "text/plain": "Training Batches:   0%|          | 0/850 [00:00<?, ?it/s]",
      "application/vnd.jupyter.widget-view+json": {
       "version_major": 2,
       "version_minor": 0,
       "model_id": "b0bd9c901db9464f90ca7db352918e4e"
      }
     },
     "metadata": {},
     "output_type": "display_data"
    },
    {
     "name": "stdout",
     "output_type": "stream",
     "text": [
      "Loss: 0.30605465333237697\n",
      "Training Accuracy: 0.9021617146536657\n"
     ]
    },
    {
     "data": {
      "text/plain": "Testing Batches:   0%|          | 0/1854 [00:00<?, ?it/s]",
      "application/vnd.jupyter.widget-view+json": {
       "version_major": 2,
       "version_minor": 0,
       "model_id": "27f2a1e115064aefaeb86f499178ebe2"
      }
     },
     "metadata": {},
     "output_type": "display_data"
    },
    {
     "name": "stdout",
     "output_type": "stream",
     "text": [
      "Loss: 0.17933529238528023\n",
      "Testing Accuracy: 0.9498039546355243\n"
     ]
    },
    {
     "data": {
      "text/plain": "Training Batches:   0%|          | 0/850 [00:00<?, ?it/s]",
      "application/vnd.jupyter.widget-view+json": {
       "version_major": 2,
       "version_minor": 0,
       "model_id": "21a871047290447ebd8168b30f99c90d"
      }
     },
     "metadata": {},
     "output_type": "display_data"
    },
    {
     "name": "stdout",
     "output_type": "stream",
     "text": [
      "Loss: 0.2861093991190222\n",
      "Training Accuracy: 0.9083616962560942\n"
     ]
    },
    {
     "data": {
      "text/plain": "Testing Batches:   0%|          | 0/1854 [00:00<?, ?it/s]",
      "application/vnd.jupyter.widget-view+json": {
       "version_major": 2,
       "version_minor": 0,
       "model_id": "1c95619b45d04fe9b61a28596bad0fc3"
      }
     },
     "metadata": {},
     "output_type": "display_data"
    },
    {
     "name": "stdout",
     "output_type": "stream",
     "text": [
      "Loss: 0.16880175192122565\n",
      "Testing Accuracy: 0.951886673131245\n"
     ]
    },
    {
     "data": {
      "text/plain": "Training Batches:   0%|          | 0/850 [00:00<?, ?it/s]",
      "application/vnd.jupyter.widget-view+json": {
       "version_major": 2,
       "version_minor": 0,
       "model_id": "dcb65cd706f3417db877be3a862010c8"
      }
     },
     "metadata": {},
     "output_type": "display_data"
    },
    {
     "name": "stdout",
     "output_type": "stream",
     "text": [
      "Loss: 0.271817333780414\n",
      "Training Accuracy: 0.9133474381381658\n"
     ]
    },
    {
     "data": {
      "text/plain": "Testing Batches:   0%|          | 0/1854 [00:00<?, ?it/s]",
      "application/vnd.jupyter.widget-view+json": {
       "version_major": 2,
       "version_minor": 0,
       "model_id": "da23534fb9c24ff6858acec95a1c0145"
      }
     },
     "metadata": {},
     "output_type": "display_data"
    },
    {
     "name": "stdout",
     "output_type": "stream",
     "text": [
      "Loss: 0.15892066485213344\n",
      "Testing Accuracy: 0.9543994266200093\n"
     ]
    },
    {
     "data": {
      "text/plain": "Training Batches:   0%|          | 0/850 [00:00<?, ?it/s]",
      "application/vnd.jupyter.widget-view+json": {
       "version_major": 2,
       "version_minor": 0,
       "model_id": "fa8d1c050ebb4187a68aac7344f1258f"
      }
     },
     "metadata": {},
     "output_type": "display_data"
    },
    {
     "name": "stdout",
     "output_type": "stream",
     "text": [
      "Loss: 0.2578654382541872\n",
      "Training Accuracy: 0.9192162634532242\n"
     ]
    },
    {
     "data": {
      "text/plain": "Testing Batches:   0%|          | 0/1854 [00:00<?, ?it/s]",
      "application/vnd.jupyter.widget-view+json": {
       "version_major": 2,
       "version_minor": 0,
       "model_id": "e7ec08229b4142f48cf7a03687e3f92d"
      }
     },
     "metadata": {},
     "output_type": "display_data"
    },
    {
     "name": "stdout",
     "output_type": "stream",
     "text": [
      "Loss: 0.1498790943443558\n",
      "Testing Accuracy: 0.9563640962941102\n"
     ]
    }
   ],
   "source": [
    "model = CNN().to(device)\n",
    "loss_value, accuracy = train_and_evaluate(10, model, train_dataloader, test_dataloader, min_loss=0.02)"
   ],
   "metadata": {
    "collapsed": false
   }
  },
  {
   "cell_type": "code",
   "execution_count": 22,
   "outputs": [],
   "source": [
    "# save the training model\n",
    "import os\n",
    "path = os.getcwd()+\"/cnn.pth\"\n",
    "model.save_model(path)"
   ],
   "metadata": {
    "collapsed": false
   }
  },
  {
   "cell_type": "code",
   "execution_count": 23,
   "outputs": [
    {
     "data": {
      "text/plain": "<Figure size 640x480 with 1 Axes>",
      "image/png": "[encoded data removed]"
     },
     "metadata": {},
     "output_type": "display_data"
    },
    {
     "data": {
      "text/plain": "<Figure size 640x480 with 1 Axes>",
      "image/png": "[encoded data removed]"
     },
     "metadata": {},
     "output_type": "display_data"
    }
   ],
   "source": [
    "#plot the training and testing loss and accuracy\n",
    "import matplotlib.pyplot as plt\n",
    "train_loss = loss_value[0]\n",
    "test_loss = loss_value[1]\n",
    "train_accuracy = accuracy[0]\n",
    "test_accuracy = accuracy[1]\n",
    "\n",
    "plt.plot(train_loss, label=\"Training Loss\")\n",
    "plt.plot(test_loss, label=\"Testing Loss\")\n",
    "plt.legend()\n",
    "plt.xlabel(\"Epoch#\")\n",
    "plt.ylabel(\"Loss Value\")\n",
    "plt.title(\"Training and Testing Loss\")\n",
    "plt.show()\n",
    "plt.plot(train_accuracy, label=\"Training Accuracy\")\n",
    "plt.plot(test_accuracy, label=\"Testing Accuracy\")\n",
    "plt.xlabel(\"Epoch#\")\n",
    "plt.ylabel(\"Accuracy\")\n",
    "plt.title(\"Training and Testing Accuracy\")\n",
    "plt.legend()\n",
    "plt.show()"
   ],
   "metadata": {
    "collapsed": false
   }
  },
  {
   "cell_type": "code",
   "execution_count": 30,
   "outputs": [],
   "source": [
    "failure_type = {'Center':0,'Donut':1,'Edge-Loc':2,'Edge-Ring':3,'Loc':4,'Random':5,'Scratch':6,'Near-full':7,'none':8}\n",
    "failure_list = [\"Center\",\"Donut\",\"Edge-Loc\",\"Edge-Ring\",\"Loc\",\"Random\",\"Scratch\",\"Near-full\",\"None\"]"
   ],
   "metadata": {
    "collapsed": false
   }
  },
  {
   "cell_type": "code",
   "execution_count": 25,
   "outputs": [
    {
     "data": {
      "text/plain": "Testing Batches:   0%|          | 0/1854 [00:00<?, ?it/s]",
      "application/vnd.jupyter.widget-view+json": {
       "version_major": 2,
       "version_minor": 0,
       "model_id": "8fc94d195c4345a48ca65eaba0f2762b"
      }
     },
     "metadata": {},
     "output_type": "display_data"
    }
   ],
   "source": [
    "prediction = []\n",
    "true = []\n",
    "for images,labels in tqdm(test_dataloader, leave=False, desc=\"Testing Batches\"):\n",
    "    images, labels = images.to(device), labels.to(device)\n",
    "    output = model.forward(images)\n",
    "    _, predicted = torch.max(output.data, 1)\n",
    "    for i in range(labels.shape[0]):\n",
    "        prediction.append(labels[i].item())\n",
    "        true.append(predicted[i].item())"
   ],
   "metadata": {
    "collapsed": false
   }
  },
  {
   "cell_type": "code",
   "execution_count": 32,
   "outputs": [
    {
     "name": "stdout",
     "output_type": "stream",
     "text": [
      "118595\n",
      "118595\n"
     ]
    }
   ],
   "source": [
    "print(len(prediction))\n",
    "print(len(true))\n",
    "for i in range(len(prediction)):\n"
   ],
   "metadata": {
    "collapsed": false
   }
  },
  {
   "cell_type": "code",
   "execution_count": 29,
   "outputs": [
    {
     "data": {
      "text/plain": "<Figure size 1100x800 with 2 Axes>",
      "image/png": "[encoded data removed]"
     },
     "metadata": {},
     "output_type": "display_data"
    }
   ],
   "source": [
    "from sklearn.metrics import confusion_matrix\n",
    "import seaborn as sns\n",
    "\n",
    "cf_matrix = confusion_matrix(true, prediction)\n",
    "#print(cf_matrix)\n",
    "sns.set(rc = {'figure.figsize':(11,8)})\n",
    "ax = sns.heatmap(cf_matrix,annot=True,fmt='g',xticklabels=failure_list,yticklabels=failure_list,cmap=\"Blues_r\")\n",
    "ax.xaxis.tick_top()\n",
    "ax.xaxis.set_label_position('top')\n",
    "plt.xlabel(\"Predicted label\")\n",
    "plt.ylabel(\"True label\")\n",
    "plt.show()"
   ],
   "metadata": {
    "collapsed": false
   }
  },
  {
   "cell_type": "code",
   "execution_count": null,
   "outputs": [],
   "source": [],
   "metadata": {
    "collapsed": false
   }
  }
 ],
 "metadata": {
  "kernelspec": {
   "display_name": "Python 3",
   "language": "python",
   "name": "python3"
  },
  "language_info": {
   "codemirror_mode": {
    "name": "ipython",
    "version": 2
   },
   "file_extension": ".py",
   "mimetype": "text/x-python",
   "name": "python",
   "nbconvert_exporter": "python",
   "pygments_lexer": "ipython2",
   "version": "2.7.6"
  }
 },
 "nbformat": 4,
 "nbformat_minor": 0
}
